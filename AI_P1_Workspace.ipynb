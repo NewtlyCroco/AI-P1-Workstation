{
 "nbformat": 4,
 "nbformat_minor": 0,
 "metadata": {
  "colab": {
   "provenance": []
  },
  "kernelspec": {
   "name": "python3",
   "display_name": "Python 3 (ipykernel)",
   "language": "python"
  },
  "language_info": {
   "name": "python"
  }
 },
 "cells": [
  {
   "metadata": {},
   "cell_type": "markdown",
   "source": "# Introduction"
  },
  {
   "metadata": {},
   "cell_type": "markdown",
   "source": [
    "Welcome to the P1 Workspace with Group 14:\n",
    "Will Mitchell\n",
    "Trevor Gordon\n"
   ]
  },
  {
   "metadata": {},
   "cell_type": "markdown",
   "source": "Below are some prelimnary Helper methods that benifit the program as a whole with the starting code parameters"
  },
  {
   "metadata": {
    "ExecuteTime": {
     "end_time": "2025-09-05T19:22:42.586108Z",
     "start_time": "2025-09-05T19:22:42.566241Z"
    }
   },
   "cell_type": "code",
   "source": [
    "# Parameters\n",
    "GROUP_ID = 'Group14'\n",
    "ALGORITHM = 'bt'\n",
    "PUZZLE_TYPE = 'easy'\n",
    "PUZZLE_PATH = 'puzzles/Evil-P3.txt.txt'"
   ],
   "outputs": [],
   "execution_count": 4
  },
  {
   "metadata": {
    "ExecuteTime": {
     "end_time": "2025-09-05T19:26:33.293204Z",
     "start_time": "2025-09-05T19:26:33.275809Z"
    }
   },
   "cell_type": "code",
   "source": [
    "def parse_matrix(file_path : str):\n",
    "  with open(file_path, mode=\"r\") as file:\n",
    "      new_matrix = []\n",
    "      for line in file:\n",
    "        new_line_array = line.replace(\"\\n\",\"\").replace(\"\\ufeff\",\"\").split(\",\")\n",
    "        new_matrix.append(new_line_array)\n",
    "\n",
    "\n",
    "  file.close()\n",
    "  new_matrix[0][0] = str(new_matrix[0][0])[-1:]\n",
    "  return new_matrix\n",
    "\n",
    "parse_matrix(PUZZLE_PATH)\n",
    "\n"
   ],
   "outputs": [
    {
     "data": {
      "text/plain": [
       "[['?', '?', '8', '?', '5', '6', '?', '?', '?'],\n",
       " ['7', '?', '4', '?', '?', '?', '6', '1', '9'],\n",
       " ['?', '?', '?', '?', '?', '?', '8', '5', '?'],\n",
       " ['6', '?', '7', '?', '2', '9', '5', '?', '?'],\n",
       " ['?', '?', '9', '?', '6', '?', '1', '?', '?'],\n",
       " ['?', '?', '2', '3', '1', '?', '9', '?', '4'],\n",
       " ['?', '3', '5', '?', '?', '?', '?', '?', '?'],\n",
       " ['4', '2', '1', '?', '?', '?', '3', '?', '6'],\n",
       " ['?', '?', '?', '8', '3', '?', '4', '?', '?']]"
      ]
     },
     "execution_count": 9,
     "metadata": {},
     "output_type": "execute_result"
    }
   ],
   "execution_count": 9
  },
  {
   "metadata": {},
   "cell_type": "code",
   "outputs": [],
   "execution_count": null,
   "source": [
    "def get_square_values(sudoku_state, cord_x, cord_y):\n",
    "  #first box\n",
    "  if cord_x <= 2 and cord_y <= 2:\n",
    "\n",
    "  elif (2 < cord_x < 5) and (cord_y <= 2):\n",
    "\n",
    "\n",
    "\n",
    "\n",
    "\n",
    "\n",
    "  print(answer)\n"
   ]
  },
  {
   "metadata": {},
   "cell_type": "code",
   "outputs": [],
   "execution_count": null,
   "source": [
    "matrix = parse_matrix(PUZZLE_PATH)\n",
    "if 6 in matrix[0]:\n",
    "  return True\n",
    "else:\n",
    "  return False\n"
   ]
  },
  {
   "metadata": {
    "ExecuteTime": {
     "end_time": "2025-09-05T19:29:18.844693Z",
     "start_time": "2025-09-05T19:29:18.823922Z"
    }
   },
   "cell_type": "code",
   "source": [
    "class ga_node (matrix):\n",
    "    def __init__(self, cord_x, cord_y):\n",
    "        self.cord_x = cord_x"
   ],
   "outputs": [
    {
     "ename": "SyntaxError",
     "evalue": "invalid syntax (451626592.py, line 1)",
     "output_type": "error",
     "traceback": [
      "  \u001B[36mCell\u001B[39m\u001B[36m \u001B[39m\u001B[32mIn[10]\u001B[39m\u001B[32m, line 1\u001B[39m\n\u001B[31m    \u001B[39m\u001B[31mclass\u001B[39m\n          ^\n\u001B[31mSyntaxError\u001B[39m\u001B[31m:\u001B[39m invalid syntax\n"
     ]
    }
   ],
   "execution_count": 10
  },
  {
   "metadata": {},
   "cell_type": "markdown",
   "source": "# Helper Functions\n"
  },
  {
   "metadata": {},
   "cell_type": "code",
   "outputs": [],
   "execution_count": null,
   "source": [
    "def get_row_values(sudoku_state, cord_x, cord_y):\n",
    "  matrix = parse_matrix(PUZZLE_PATH)\n",
    "  value = matrix[cord_x][cord_y]\n",
    "  my_set = set(matrix[cord_x])\n",
    "  my_set.remove(value)\n",
    "  return my_set\n",
    "\n",
    "print(get_row_values(0,1))"
   ]
  },
  {
   "metadata": {},
   "cell_type": "code",
   "outputs": [],
   "execution_count": null,
   "source": [
    "def get_col_values(sudoku_state, cord_x, cord_y):\n",
    "  matrix = parse_matrix(sudoku_state)\n",
    "  value = matrix[cord_x][cord_y]\n",
    "  my_set = set(matrix[cord_x])\n",
    "  my_set.remove(value)\n",
    "  for i in range(8):\n",
    "    my_set.add(matrix[cord_x][i])\n",
    "\n",
    "  return my_set\n",
    "\n",
    "print(get_col_values(0,0,1))"
   ]
  },
  {
   "metadata": {},
   "cell_type": "code",
   "outputs": [],
   "execution_count": null,
   "source": "def create_ga_state(raw_sudoku_state):\n"
  }
 ]
}
