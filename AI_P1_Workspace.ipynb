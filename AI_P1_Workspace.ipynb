{
  "nbformat": 4,
  "nbformat_minor": 0,
  "metadata": {
    "colab": {
      "provenance": []
    },
    "kernelspec": {
      "name": "python3",
      "display_name": "Python 3"
    },
    "language_info": {
      "name": "python"
    }
  },
  "cells": [
    {
      "cell_type": "markdown",
      "source": [
        "# Introduction"
      ],
      "metadata": {
        "id": "PMbdgKQ_zcRD"
      }
    },
    {
      "cell_type": "markdown",
      "source": [
        "Welcome to the P1 Workspace with Group 14:\n",
        "Will Mitchell\n",
        "Trevor Gordon\n"
      ],
      "metadata": {
        "id": "Lvg9gZuky4ox"
      }
    },
    {
      "cell_type": "markdown",
      "source": [
        "Below are some prelimnary Helper methods that benifit the program as a whole with the starting code parameters"
      ],
      "metadata": {
        "id": "pkCad6gGzBxM"
      }
    },
    {
      "cell_type": "code",
      "execution_count": null,
      "metadata": {
        "id": "s_oLr0f6y0e1"
      },
      "outputs": [],
      "source": [
        "# Parameters\n",
        "GROUP_ID = 'Group14'\n",
        "ALGORITHM = 'bt'\n",
        "PUZZLE_TYPE = 'easy'\n",
        "PUZZLE_PATH = '/content/puzzles/Easy-P1.txt'"
      ]
    },
    {
      "cell_type": "code",
      "source": [
        "def parse_matrix(file_path : str):\n",
        "  with open(file_path, mode=\"r\") as file:\n",
        "      new_matrix = []\n",
        "      for line in file:\n",
        "        new_line_array = line.replace(\"\\n\",\"\").replace(\"\\ufeff\",\"\").split(\",\")\n",
        "        new_matrix.append(new_line_array)\n",
        "\n",
        "\n",
        "  file.close()\n",
        "  return new_matrix\n",
        "\n",
        "parse_matrix(PUZZLE_PATH)\n",
        "\n"
      ],
      "metadata": {
        "colab": {
          "base_uri": "https://localhost:8080/"
        },
        "id": "lHacRnfl1Gb2",
        "outputId": "7abffe12-c622-469c-b716-f2bdeab48750"
      },
      "execution_count": null,
      "outputs": [
        {
          "output_type": "execute_result",
          "data": {
            "text/plain": [
              "[['?', '?', '8', '?', '5', '6', '?', '?', '?'],\n",
              " ['7', '?', '4', '?', '?', '?', '6', '1', '9'],\n",
              " ['?', '?', '?', '?', '?', '?', '8', '5', '?'],\n",
              " ['6', '?', '7', '?', '2', '9', '5', '?', '?'],\n",
              " ['?', '?', '9', '?', '6', '?', '1', '?', '?'],\n",
              " ['?', '?', '2', '3', '1', '?', '9', '?', '4'],\n",
              " ['?', '3', '5', '?', '?', '?', '?', '?', '?'],\n",
              " ['4', '2', '1', '?', '?', '?', '3', '?', '6'],\n",
              " ['?', '?', '?', '8', '3', '?', '4', '?', '?']]"
            ]
          },
          "metadata": {},
          "execution_count": 11
        }
      ]
    },
    {
      "cell_type": "code",
      "source": [
        "def get_square_values(sudoku_state, cord_x, cord_y):\n",
        "  #first box\n",
        "  if cord_x <= 2 and cord_y <= 2:\n",
        "\n",
        "  elif (2 < cord_x < 5) and (cord_y <= 2):\n",
        "\n",
        "\n",
        "\n",
        "\n",
        "\n",
        "\n",
        "  print(answer)\n"
      ],
      "metadata": {
        "colab": {
          "base_uri": "https://localhost:8080/"
        },
        "id": "GorPemKb1N1W",
        "outputId": "5362234a-93ee-4eed-c1fc-f3a7541d6b5e"
      },
      "execution_count": null,
      "outputs": [
        {
          "output_type": "stream",
          "name": "stdout",
          "text": [
            "yes\n"
          ]
        }
      ]
    },
    {
      "cell_type": "code",
      "source": [
        "matrix = parse_matrix(PUZZLE_PATH)\n",
        "if 6 in matrix[0]:\n",
        "  return True\n",
        "else:\n",
        "  return False\n"
      ],
      "metadata": {
        "colab": {
          "base_uri": "https://localhost:8080/",
          "height": 106
        },
        "id": "QVw7AJgS-RCp",
        "outputId": "b6b25caf-e93c-4b46-9aee-518ad62851fb"
      },
      "execution_count": null,
      "outputs": [
        {
          "output_type": "error",
          "ename": "SyntaxError",
          "evalue": "'return' outside function (ipython-input-2433683405.py, line 3)",
          "traceback": [
            "\u001b[0;36m  File \u001b[0;32m\"/tmp/ipython-input-2433683405.py\"\u001b[0;36m, line \u001b[0;32m3\u001b[0m\n\u001b[0;31m    return True\u001b[0m\n\u001b[0m    ^\u001b[0m\n\u001b[0;31mSyntaxError\u001b[0m\u001b[0;31m:\u001b[0m 'return' outside function\n"
          ]
        }
      ]
    },
    {
      "cell_type": "markdown",
      "source": [
        "# Helper Functions\n"
      ],
      "metadata": {
        "id": "l_agV5ehzX30"
      }
    },
    {
      "cell_type": "code",
      "source": [
        "def get_row_values(sudoku_state, cord_x, cord_y):\n",
        "  matrix = parse_matrix(PUZZLE_PATH)\n",
        "  value = matrix[cord_x][cord_y]\n",
        "  my_set = set(matrix[cord_x])\n",
        "  my_set.remove(value)\n",
        "  return my_set\n",
        "\n",
        "print(get_row_values(0,1))"
      ],
      "metadata": {
        "colab": {
          "base_uri": "https://localhost:8080/"
        },
        "id": "_vnWfFovDLds",
        "outputId": "021ae82c-eeed-4c1b-d02d-79169ef7fe77"
      },
      "execution_count": null,
      "outputs": [
        {
          "output_type": "stream",
          "name": "stdout",
          "text": [
            "{'8', '?', '6', '5'}\n"
          ]
        }
      ]
    },
    {
      "cell_type": "code",
      "source": [
        "def get_col_values(sudoku_state, cord_x, cord_y):\n",
        "  matrix = parse_matrix(PUZZLE_PATH)\n",
        "  value = matrix[cord_x][cord_y]\n",
        "  my_set = set(matrix[cord_x])\n",
        "  my_set.remove(value)\n",
        "  return my_set\n",
        "\n",
        "print(get_row_values(0,1))"
      ],
      "metadata": {
        "id": "CdpXcAieJP6_"
      },
      "execution_count": null,
      "outputs": []
    }
  ]
}