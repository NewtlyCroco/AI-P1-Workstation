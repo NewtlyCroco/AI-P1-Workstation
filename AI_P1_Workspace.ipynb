{
 "nbformat": 4,
 "nbformat_minor": 0,
 "metadata": {
  "colab": {
   "provenance": []
  },
  "kernelspec": {
   "name": "python3",
   "display_name": "Python 3 (ipykernel)",
   "language": "python"
  },
  "language_info": {
   "name": "python"
  }
 },
 "cells": [
  {
   "metadata": {},
   "cell_type": "markdown",
   "source": "# Introduction"
  },
  {
   "metadata": {},
   "cell_type": "markdown",
   "source": [
    "Welcome to the P1 Workspace with Group 14:\n",
    "Will Mitchell\n",
    "Trevor Gordon\n"
   ]
  },
  {
   "metadata": {},
   "cell_type": "markdown",
   "source": "Below are some prelimnary Helper methods that benifit the program as a whole with the starting code parameters"
  },
  {
   "metadata": {
    "ExecuteTime": {
     "end_time": "2025-09-10T19:21:31.377761Z",
     "start_time": "2025-09-10T19:21:31.372575Z"
    }
   },
   "cell_type": "code",
   "source": [
    "# Parameters\n",
    "GROUP_ID = 'Group14'\n",
    "ALGORITHM = 'bt'\n",
    "PUZZLE_TYPE = 'easy'\n",
    "PUZZLE_PATH = 'puzzles/Med-P1.txt'"
   ],
   "outputs": [],
   "execution_count": 203
  },
  {
   "metadata": {
    "ExecuteTime": {
     "end_time": "2025-09-10T01:34:59.473062Z",
     "start_time": "2025-09-10T01:34:59.465909Z"
    }
   },
   "cell_type": "code",
   "source": [
    "def parse_matrix(file_path : str):\n",
    "  with open(file_path, mode=\"r\") as file:\n",
    "      new_matrix = []\n",
    "      for line in file:\n",
    "        new_line_array = line.replace(\"\\n\",\"\").replace(\"\\ufeff\",\"\").split(\",\")\n",
    "        new_matrix.append(new_line_array)\n",
    "\n",
    "\n",
    "  file.close()\n",
    "  new_matrix[0][0] = str(new_matrix[0][0])[-1:]\n",
    "  return new_matrix\n",
    "\n",
    "parse_matrix(PUZZLE_PATH)\n",
    "\n"
   ],
   "outputs": [
    {
     "data": {
      "text/plain": [
       "[['?', '?', '8', '?', '5', '6', '?', '?', '?'],\n",
       " ['7', '?', '4', '?', '?', '?', '6', '1', '9'],\n",
       " ['?', '?', '?', '?', '?', '?', '8', '5', '?'],\n",
       " ['6', '?', '7', '?', '2', '9', '5', '?', '?'],\n",
       " ['?', '?', '9', '?', '6', '?', '1', '?', '?'],\n",
       " ['?', '?', '2', '3', '1', '?', '9', '?', '4'],\n",
       " ['?', '3', '5', '?', '?', '?', '?', '?', '?'],\n",
       " ['4', '2', '1', '?', '?', '?', '3', '?', '6'],\n",
       " ['?', '?', '?', '8', '3', '?', '4', '?', '?']]"
      ]
     },
     "execution_count": 16,
     "metadata": {},
     "output_type": "execute_result"
    }
   ],
   "execution_count": 16
  },
  {
   "metadata": {
    "ExecuteTime": {
     "end_time": "2025-09-10T01:35:02.233250Z",
     "start_time": "2025-09-10T01:35:02.228083Z"
    }
   },
   "cell_type": "code",
   "source": [
    "def get_square_values(sudoku_state, row, col):\n",
    "    #top left box\n",
    "    if col <= 2 and row <= 2:\n",
    "        col_indexes = [0,1,2]\n",
    "        row_indexes = [0,1,2]\n",
    "\n",
    "    #top middle box\n",
    "    elif (2 < col <= 5) and (row <= 2):\n",
    "        col_indexes = [3,4,5]\n",
    "        row_indexes = [0,1,2]\n",
    "\n",
    "    #top right box\n",
    "    elif (5 < col <= 8) and (row <= 2):\n",
    "        col_indexes = [6,7,8]\n",
    "        row_indexes = [0,1,2]\n",
    "\n",
    "    #middle left box\n",
    "    elif (col <= 2) and (2 < row <= 5):\n",
    "        col_indexes = [0,1,2]\n",
    "        row_indexes = [3,4,5]\n",
    "\n",
    "    #middle middle box\n",
    "    elif (2 < col <= 5) and (2 < row <= 5):\n",
    "        col_indexes = [3,4,5]\n",
    "        row_indexes = [3,4,5]\n",
    "\n",
    "    #middle right box\n",
    "    elif (5 < col <= 8) and (2 < row <= 5):\n",
    "        col_indexes = [6,7,8]\n",
    "        row_indexes = [3,4,5]\n",
    "\n",
    "    #bottom left box\n",
    "    elif (col <= 2) and (row > 5):\n",
    "        col_indexes = [0,1,2]\n",
    "        row_indexes = [6,7,8]\n",
    "\n",
    "    #bottom middle box\n",
    "    elif (2 < col <= 5) and (row > 5):\n",
    "        col_indexes = [3,4,5]\n",
    "        row_indexes = [6,7,8]\n",
    "\n",
    "    #bottom right box\n",
    "    elif (5 < col <= 8) and (row > 5):\n",
    "        col_indexes = [6,7,8]\n",
    "        row_indexes = [6,7,8]\n",
    "\n",
    "    my_set = set()\n",
    "    for i in row_indexes:\n",
    "            for j in col_indexes:\n",
    "                if sudoku_state[i][j] != '?':\n",
    "                      my_set.add(sudoku_state[i][j])\n",
    "    return my_set\n",
    "\n",
    "\n",
    "\n",
    "# print(get_square_values(parse_matrix(PUZZLE_PATH), 6, 1))\n",
    "\n"
   ],
   "outputs": [
    {
     "name": "stdout",
     "output_type": "stream",
     "text": [
      "{'3', '5', '2', '1', '4'}\n"
     ]
    }
   ],
   "execution_count": 17
  },
  {
   "metadata": {
    "ExecuteTime": {
     "end_time": "2025-09-10T19:21:43.275999Z",
     "start_time": "2025-09-10T19:21:43.241383Z"
    }
   },
   "cell_type": "code",
   "source": [
    "def is_available(sudoku_state, row, col, num):\n",
    "    my_list = get_unavailable_nums(sudoku_state,row,col)\n",
    "    if (str(num) in my_list):\n",
    "        return False\n",
    "    else:\n",
    "        return True\n",
    "\n",
    "\n",
    "def solver_arc(sudoku_state, row, col):\n",
    "    if row == 8 and col == 9:\n",
    "        return True\n",
    "\n",
    "    # If last column of the row go to the next row\n",
    "    if col == 9:\n",
    "        row += 1\n",
    "        col = 0\n",
    "\n",
    "    # If spot is already filled then go to next\n",
    "    if sudoku_state[row][col] != '?':\n",
    "        return solver_arc(sudoku_state, row, col+1)\n",
    "\n",
    "    for num in range(1, 10):\n",
    "        # If num is available in the current spot\n",
    "        if is_available(sudoku_state, row, col, num):\n",
    "            sudoku_state[row][col] = str(num)\n",
    "            if solver_arc(sudoku_state, row, col+1):\n",
    "                return True\n",
    "            sudoku_state[row][col] = '?'\n",
    "    return False\n",
    "\n",
    "def solveSudoku(sudoku_state): #starts recursive solving\n",
    "    solver_arc(sudoku_state, 0, 0)\n",
    "    for line in sudoku_state:\n",
    "        print(line)\n",
    "\n",
    "solveSudoku(parse_matrix(PUZZLE_PATH))"
   ],
   "outputs": [
    {
     "name": "stdout",
     "output_type": "stream",
     "text": [
      "['2', '5', '3', '9', '8', '4', '7', '1', '6']\n",
      "['9', '8', '4', '1', '7', '6', '3', '2', '5']\n",
      "['6', '1', '7', '3', '2', '5', '8', '4', '9']\n",
      "['5', '4', '1', '7', '3', '8', '9', '6', '2']\n",
      "['3', '9', '2', '6', '4', '1', '5', '8', '7']\n",
      "['8', '7', '6', '5', '9', '2', '4', '3', '1']\n",
      "['7', '2', '5', '4', '1', '3', '6', '9', '8']\n",
      "['4', '6', '8', '2', '5', '9', '1', '7', '3']\n",
      "['1', '3', '9', '8', '6', '7', '2', '5', '4']\n"
     ]
    }
   ],
   "execution_count": 204
  },
  {
   "metadata": {
    "ExecuteTime": {
     "end_time": "2025-09-10T06:21:22.642113Z",
     "start_time": "2025-09-10T06:21:22.628187Z"
    }
   },
   "cell_type": "code",
   "source": [
    "class ga_state_node():\n",
    "    def __init__(self, raw_matrix):\n",
    "        self.matrix = raw_matrix\n",
    "        self.num_conflicts = [-1] #this will track actually the history of conflicts, and push new conflict values each time its processed per generation\n",
    "        self.hardcoded_value_map = self.process_hardcoded_values_map()\n",
    "        #we want to immediately be able to know which indexes are hardcoded or not for a basic constraint\n",
    "\n",
    "    def process_conflicts(self):\n",
    "        self.num_conflicts.push(1)\n",
    "\n",
    "    def process_hardcoded_values_map(self):\n",
    "        return ((0,0), (0,1), (1,0), (1,1))\n",
    "        #map of our indexes\n",
    "\n",
    "    def fill_random_values(self):\n",
    "        self.matrix = [] #fills question marks with random values\n"
   ],
   "outputs": [],
   "execution_count": 165
  },
  {
   "metadata": {
    "ExecuteTime": {
     "end_time": "2025-09-09T23:37:09.972839Z",
     "start_time": "2025-09-09T23:37:09.970136Z"
    }
   },
   "cell_type": "code",
   "source": "",
   "outputs": [],
   "execution_count": 7
  },
  {
   "metadata": {},
   "cell_type": "markdown",
   "source": "# Helper Functions\n"
  },
  {
   "metadata": {
    "ExecuteTime": {
     "end_time": "2025-09-10T01:35:26.501458Z",
     "start_time": "2025-09-10T01:35:26.496675Z"
    }
   },
   "cell_type": "code",
   "source": [
    "def get_row_values(sudoku_state, row, col):\n",
    "  my_set = set(sudoku_state[row])\n",
    "  return my_set\n",
    "\n",
    "# print(get_row_values(parse_matrix(PUZZLE_PATH),0,0))"
   ],
   "outputs": [
    {
     "name": "stdout",
     "output_type": "stream",
     "text": [
      "{'6', '8', '?', '5'}\n"
     ]
    }
   ],
   "execution_count": 19
  },
  {
   "metadata": {
    "ExecuteTime": {
     "end_time": "2025-09-10T06:21:33.700523Z",
     "start_time": "2025-09-10T06:21:33.689995Z"
    }
   },
   "cell_type": "code",
   "source": [
    "def get_col_values(sudoku_state, row, col):\n",
    "  my_set = set()\n",
    "  for i in range(9):\n",
    "      my_set.add(sudoku_state[i][col])\n",
    "\n",
    "  return my_set\n",
    "\n",
    "print(get_col_values(parse_matrix(PUZZLE_PATH),0,0))"
   ],
   "outputs": [
    {
     "name": "stdout",
     "output_type": "stream",
     "text": [
      "{'6', '4', '?', '7'}\n"
     ]
    }
   ],
   "execution_count": 166
  },
  {
   "metadata": {
    "ExecuteTime": {
     "end_time": "2025-09-10T06:29:44.053063Z",
     "start_time": "2025-09-10T06:28:22.556004Z"
    }
   },
   "cell_type": "code",
   "source": [
    "def get_unavailable_nums(sudoku_state, row, col):\n",
    "    unavail_row = get_row_values(sudoku_state,row, col)\n",
    "    unavail_col = get_col_values(sudoku_state,row, col)\n",
    "    unavail_square = get_square_values(sudoku_state, row, col)\n",
    "    my_set = unavail_row.union(unavail_col, unavail_square)\n",
    "    return my_set\n",
    "\n",
    "get_unavailable_nums(parse_matrix(PUZZLE_PATH),0,0)"
   ],
   "outputs": [
    {
     "ename": "KeyboardInterrupt",
     "evalue": "",
     "output_type": "error",
     "traceback": [
      "\u001B[31m---------------------------------------------------------------------------\u001B[39m",
      "\u001B[31mKeyboardInterrupt\u001B[39m                         Traceback (most recent call last)",
      "\u001B[36mCell\u001B[39m\u001B[36m \u001B[39m\u001B[32mIn[182]\u001B[39m\u001B[32m, line 8\u001B[39m\n\u001B[32m      5\u001B[39m     my_set = unavail_row.union(unavail_col, unavail_square)\n\u001B[32m      6\u001B[39m     \u001B[38;5;28;01mreturn\u001B[39;00m my_set\n\u001B[32m----> \u001B[39m\u001B[32m8\u001B[39m \u001B[43mget_unavailable_nums\u001B[49m\u001B[43m(\u001B[49m\u001B[43mparse_matrix\u001B[49m\u001B[43m(\u001B[49m\u001B[43mPUZZLE_PATH\u001B[49m\u001B[43m)\u001B[49m\u001B[43m,\u001B[49m\u001B[32;43m0\u001B[39;49m\u001B[43m,\u001B[49m\u001B[32;43m0\u001B[39;49m\u001B[43m)\u001B[49m\n",
      "\u001B[36mCell\u001B[39m\u001B[36m \u001B[39m\u001B[32mIn[182]\u001B[39m\u001B[32m, line 6\u001B[39m, in \u001B[36mget_unavailable_nums\u001B[39m\u001B[34m(sudoku_state, row, col)\u001B[39m\n\u001B[32m      4\u001B[39m unavail_square = get_square_values(sudoku_state, row, col)\n\u001B[32m      5\u001B[39m my_set = unavail_row.union(unavail_col, unavail_square)\n\u001B[32m----> \u001B[39m\u001B[32m6\u001B[39m \u001B[38;5;28;01mreturn\u001B[39;00m \u001B[43mmy_set\u001B[49m\n",
      "\u001B[36mFile \u001B[39m\u001B[32mC:\\Program Files\\JetBrains\\PyCharm 2024.3.1.1\\plugins\\python-ce\\helpers\\pydev\\_pydevd_bundle\\pydevd_frame.py:888\u001B[39m, in \u001B[36mPyDBFrame.trace_dispatch\u001B[39m\u001B[34m(self, frame, event, arg)\u001B[39m\n\u001B[32m    885\u001B[39m             stop = \u001B[38;5;28;01mFalse\u001B[39;00m\n\u001B[32m    887\u001B[39m \u001B[38;5;28;01mif\u001B[39;00m plugin_stop:\n\u001B[32m--> \u001B[39m\u001B[32m888\u001B[39m     stopped_on_plugin = \u001B[43mplugin_manager\u001B[49m\u001B[43m.\u001B[49m\u001B[43mstop\u001B[49m\u001B[43m(\u001B[49m\u001B[43mmain_debugger\u001B[49m\u001B[43m,\u001B[49m\u001B[43m \u001B[49m\u001B[43mframe\u001B[49m\u001B[43m,\u001B[49m\u001B[43m \u001B[49m\u001B[43mevent\u001B[49m\u001B[43m,\u001B[49m\u001B[43m \u001B[49m\u001B[38;5;28;43mself\u001B[39;49m\u001B[43m.\u001B[49m\u001B[43m_args\u001B[49m\u001B[43m,\u001B[49m\u001B[43m \u001B[49m\u001B[43mstop_info\u001B[49m\u001B[43m,\u001B[49m\u001B[43m \u001B[49m\u001B[43marg\u001B[49m\u001B[43m,\u001B[49m\u001B[43m \u001B[49m\u001B[43mstep_cmd\u001B[49m\u001B[43m)\u001B[49m\n\u001B[32m    889\u001B[39m \u001B[38;5;28;01melif\u001B[39;00m stop:\n\u001B[32m    890\u001B[39m     \u001B[38;5;28;01mif\u001B[39;00m is_line:\n",
      "\u001B[36mFile \u001B[39m\u001B[32mC:\\Program Files\\JetBrains\\PyCharm 2024.3.1.1\\plugins\\python\\helpers-pro\\jupyter_debug\\pydev_jupyter_plugin.py:169\u001B[39m, in \u001B[36mstop\u001B[39m\u001B[34m(plugin, pydb, frame, event, args, stop_info, arg, step_cmd)\u001B[39m\n\u001B[32m    167\u001B[39m     frame = suspend_jupyter(main_debugger, thread, frame, step_cmd)\n\u001B[32m    168\u001B[39m     \u001B[38;5;28;01mif\u001B[39;00m frame:\n\u001B[32m--> \u001B[39m\u001B[32m169\u001B[39m         \u001B[43mmain_debugger\u001B[49m\u001B[43m.\u001B[49m\u001B[43mdo_wait_suspend\u001B[49m\u001B[43m(\u001B[49m\u001B[43mthread\u001B[49m\u001B[43m,\u001B[49m\u001B[43m \u001B[49m\u001B[43mframe\u001B[49m\u001B[43m,\u001B[49m\u001B[43m \u001B[49m\u001B[43mevent\u001B[49m\u001B[43m,\u001B[49m\u001B[43m \u001B[49m\u001B[43marg\u001B[49m\u001B[43m)\u001B[49m\n\u001B[32m    170\u001B[39m         \u001B[38;5;28;01mreturn\u001B[39;00m \u001B[38;5;28;01mTrue\u001B[39;00m\n\u001B[32m    171\u001B[39m \u001B[38;5;28;01mreturn\u001B[39;00m \u001B[38;5;28;01mFalse\u001B[39;00m\n",
      "\u001B[36mFile \u001B[39m\u001B[32mC:\\Program Files\\JetBrains\\PyCharm 2024.3.1.1\\plugins\\python-ce\\helpers\\pydev\\pydevd.py:1220\u001B[39m, in \u001B[36mPyDB.do_wait_suspend\u001B[39m\u001B[34m(self, thread, frame, event, arg, send_suspend_message, is_unhandled_exception)\u001B[39m\n\u001B[32m   1217\u001B[39m         from_this_thread.append(frame_id)\n\u001B[32m   1219\u001B[39m \u001B[38;5;28;01mwith\u001B[39;00m \u001B[38;5;28mself\u001B[39m._threads_suspended_single_notification.notify_thread_suspended(thread_id, stop_reason):\n\u001B[32m-> \u001B[39m\u001B[32m1220\u001B[39m     \u001B[38;5;28;43mself\u001B[39;49m\u001B[43m.\u001B[49m\u001B[43m_do_wait_suspend\u001B[49m\u001B[43m(\u001B[49m\u001B[43mthread\u001B[49m\u001B[43m,\u001B[49m\u001B[43m \u001B[49m\u001B[43mframe\u001B[49m\u001B[43m,\u001B[49m\u001B[43m \u001B[49m\u001B[43mevent\u001B[49m\u001B[43m,\u001B[49m\u001B[43m \u001B[49m\u001B[43marg\u001B[49m\u001B[43m,\u001B[49m\u001B[43m \u001B[49m\u001B[43msuspend_type\u001B[49m\u001B[43m,\u001B[49m\u001B[43m \u001B[49m\u001B[43mfrom_this_thread\u001B[49m\u001B[43m)\u001B[49m\n",
      "\u001B[36mFile \u001B[39m\u001B[32mC:\\Program Files\\JetBrains\\PyCharm 2024.3.1.1\\plugins\\python-ce\\helpers\\pydev\\pydevd.py:1235\u001B[39m, in \u001B[36mPyDB._do_wait_suspend\u001B[39m\u001B[34m(self, thread, frame, event, arg, suspend_type, from_this_thread)\u001B[39m\n\u001B[32m   1232\u001B[39m             \u001B[38;5;28mself\u001B[39m._call_mpl_hook()\n\u001B[32m   1234\u001B[39m         \u001B[38;5;28mself\u001B[39m.process_internal_commands()\n\u001B[32m-> \u001B[39m\u001B[32m1235\u001B[39m         \u001B[43mtime\u001B[49m\u001B[43m.\u001B[49m\u001B[43msleep\u001B[49m\u001B[43m(\u001B[49m\u001B[32;43m0.01\u001B[39;49m\u001B[43m)\u001B[49m\n\u001B[32m   1237\u001B[39m \u001B[38;5;28mself\u001B[39m.cancel_async_evaluation(get_current_thread_id(thread), \u001B[38;5;28mstr\u001B[39m(\u001B[38;5;28mid\u001B[39m(frame)))\n\u001B[32m   1239\u001B[39m \u001B[38;5;66;03m# process any stepping instructions\u001B[39;00m\n",
      "\u001B[31mKeyboardInterrupt\u001B[39m: "
     ]
    }
   ],
   "execution_count": 182
  }
 ]
}
