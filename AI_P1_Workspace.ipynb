{
 "nbformat": 4,
 "nbformat_minor": 0,
 "metadata": {
  "colab": {
   "provenance": []
  },
  "kernelspec": {
   "name": "python3",
   "display_name": "Python 3 (ipykernel)",
   "language": "python"
  },
  "language_info": {
   "name": "python"
  }
 },
 "cells": [
  {
   "metadata": {},
   "cell_type": "markdown",
   "source": "# Introduction"
  },
  {
   "metadata": {},
   "cell_type": "markdown",
   "source": [
    "Welcome to the P1 Workspace with Group 14:\n",
    "Will Mitchell\n",
    "Trevor Gordon\n"
   ]
  },
  {
   "metadata": {},
   "cell_type": "markdown",
   "source": "Below are some prelimnary Helper methods that benifit the program as a whole with the starting code parameters"
  },
  {
   "metadata": {},
   "cell_type": "code",
   "outputs": [],
   "execution_count": null,
   "source": [
    "# Parameters\n",
    "GROUP_ID = 'Group14'\n",
    "ALGORITHM = 'bt'\n",
    "PUZZLE_TYPE = 'easy'\n",
    "PUZZLE_PATH = 'puzzles/Evil-P3.txt.txt'"
   ]
  },
  {
   "metadata": {},
   "cell_type": "code",
   "outputs": [],
   "execution_count": null,
   "source": [
    "def parse_matrix(file_path : str):\n",
    "  with open(file_path, mode=\"r\") as file:\n",
    "      new_matrix = []\n",
    "      for line in file:\n",
    "        new_line_array = line.replace(\"\\n\",\"\").replace(\"\\ufeff\",\"\").split(\",\")\n",
    "        new_matrix.append(new_line_array)\n",
    "\n",
    "\n",
    "  file.close()\n",
    "  new_matrix[0][0] = str(new_matrix[0][0])[-1:]\n",
    "  return new_matrix\n",
    "\n",
    "parse_matrix(PUZZLE_PATH)\n",
    "\n"
   ]
  },
  {
   "metadata": {},
   "cell_type": "code",
   "outputs": [],
   "execution_count": null,
   "source": [
    "def get_square_values(sudoku_state, cord_x, cord_y):\n",
    "  #first box\n",
    "  if cord_x <= 2 and cord_y <= 2:\n",
    "\n",
    "  elif (2 < cord_x < 5) and (cord_y <= 2):\n",
    "\n",
    "\n",
    "\n",
    "\n",
    "\n",
    "\n",
    "  print(answer)\n"
   ]
  },
  {
   "metadata": {},
   "cell_type": "code",
   "outputs": [],
   "execution_count": null,
   "source": ""
  },
  {
   "metadata": {},
   "cell_type": "code",
   "outputs": [],
   "execution_count": null,
   "source": [
    "class ga_state_node():\n",
    "    def __init__(self, raw_matrix):\n",
    "        self.matrix = raw_matrix\n",
    "        self.num_conflicts = [-1] #this will track actually the history of conflicts, and push new conflict values each time its processed per generation\n",
    "        self.hardcoded_value_map = self.process_hardcoded_values_map()\n",
    "        #we want to immediately be able to know which indexes are hardcoded or not for a basic constraint\n",
    "\n",
    "    def process_conflicts(self):\n",
    "        self.num_conflicts.push(1)\n",
    "\n",
    "    def process_hardcoded_values_map(self):\n",
    "        return ((0,0), (0,1), (1,0), (1,1))\n",
    "        #map of our indexes\n",
    "\n",
    "    def fill_random_values(self):\n",
    "        self.matrix = [] #fills question marks with random values\n"
   ]
  },
  {
   "metadata": {},
   "cell_type": "markdown",
   "source": "# Helper Functions\n"
  },
  {
   "metadata": {},
   "cell_type": "code",
   "outputs": [],
   "execution_count": null,
   "source": [
    "def get_row_values(sudoku_state, cord_x, cord_y):\n",
    "  matrix = parse_matrix(PUZZLE_PATH)\n",
    "  value = matrix[cord_x][cord_y]\n",
    "  my_set = set(matrix[cord_x])\n",
    "  my_set.remove(value)\n",
    "  return my_set\n",
    "\n",
    "print(get_row_values(0,1))"
   ]
  },
  {
   "metadata": {},
   "cell_type": "code",
   "outputs": [],
   "execution_count": null,
   "source": [
    "def get_col_values(sudoku_state, cord_x, cord_y):\n",
    "  matrix = parse_matrix(sudoku_state)\n",
    "  value = matrix[cord_x][cord_y]\n",
    "  my_set = set(matrix[cord_x])\n",
    "  my_set.remove(value)\n",
    "  for i in range(8):\n",
    "    my_set.add(matrix[cord_x][i])\n",
    "\n",
    "  return my_set\n",
    "\n",
    "print(get_col_values(0,0,1))"
   ]
  },
  {
   "metadata": {},
   "cell_type": "code",
   "outputs": [],
   "execution_count": null,
   "source": "def create_ga_state(raw_sudoku_state):\n"
  }
 ]
}
