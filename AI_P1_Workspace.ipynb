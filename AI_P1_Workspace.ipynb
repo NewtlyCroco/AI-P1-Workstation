{
 "nbformat": 4,
 "nbformat_minor": 0,
 "metadata": {
  "colab": {
   "provenance": []
  },
  "kernelspec": {
   "name": "python3",
   "display_name": "Python 3 (ipykernel)",
   "language": "python"
  },
  "language_info": {
   "name": "python"
  }
 },
 "cells": [
  {
   "metadata": {},
   "cell_type": "markdown",
   "source": "# Introduction"
  },
  {
   "metadata": {},
   "cell_type": "markdown",
   "source": [
    "Welcome to the P1 Workspace with Group 14:\n",
    "Will Mitchell\n",
    "Trevor Gordon\n"
   ]
  },
  {
   "metadata": {},
   "cell_type": "markdown",
   "source": "Below are some prelimnary Helper methods that benifit the program as a whole with the starting code parameters"
  },
  {
   "metadata": {
    "ExecuteTime": {
     "end_time": "2025-09-05T19:39:56.200507Z",
     "start_time": "2025-09-05T19:39:56.193609Z"
    }
   },
   "cell_type": "code",
   "source": [
    "# Parameters\n",
    "GROUP_ID = 'Group14'\n",
    "ALGORITHM = 'bt'\n",
    "PUZZLE_TYPE = 'easy'\n",
    "PUZZLE_PATH = 'puzzles/Evil-P3.txt'"
   ],
   "outputs": [],
   "execution_count": 48
  },
  {
   "metadata": {
    "ExecuteTime": {
     "end_time": "2025-09-05T19:40:05.471938Z",
     "start_time": "2025-09-05T19:40:05.458964Z"
    }
   },
   "cell_type": "code",
   "source": [
    "def parse_matrix(file_path : str):\n",
    "  with open(file_path, mode=\"r\") as file:\n",
    "      new_matrix = []\n",
    "      for line in file:\n",
    "        new_line_array = line.replace(\"\\n\",\"\").replace(\"\\ufeff\",\"\").split(\",\")\n",
    "        new_matrix.append(new_line_array)\n",
    "\n",
    "\n",
    "  file.close()\n",
    "  new_matrix[0][0] = str(new_matrix[0][0])[-1:]\n",
    "  return new_matrix\n",
    "\n",
    "parse_matrix(PUZZLE_PATH)\n",
    "\n"
   ],
   "outputs": [
    {
     "data": {
      "text/plain": [
       "[['4', '?', '?', '?', '9', '?', '2', '1', '7'],\n",
       " ['?', '?', '?', '?', '?', '3', '8', '?', '?'],\n",
       " ['?', '?', '7', '?', '?', '?', '?', '?', '9'],\n",
       " ['?', '?', '9', '?', '?', '5', '?', '7', '6'],\n",
       " ['?', '?', '?', '?', '?', '?', '?', '?', '?'],\n",
       " ['5', '2', '?', '9', '?', '?', '3', '?', '?'],\n",
       " ['8', '?', '?', '?', '?', '?', '7', '?', '?'],\n",
       " ['?', '?', '4', '3', '?', '?', '?', '?', '?'],\n",
       " ['9', '3', '6', '?', '5', '?', '?', '?', '8']]"
      ]
     },
     "execution_count": 50,
     "metadata": {},
     "output_type": "execute_result"
    }
   ],
   "execution_count": 50
  },
  {
   "metadata": {},
   "cell_type": "code",
   "outputs": [],
   "execution_count": null,
   "source": [
    "def get_square_values(sudoku_state, cord_x, cord_y):\n",
    "  #first box\n",
    "  if cord_x <= 2 and cord_y <= 2:\n",
    "\n",
    "  elif (2 < cord_x < 5) and (cord_y <= 2):\n",
    "\n",
    "\n",
    "\n",
    "\n",
    "\n",
    "\n",
    "  print(answer)\n"
   ]
  },
  {
   "metadata": {},
   "cell_type": "code",
   "outputs": [],
   "execution_count": null,
   "source": [
    "matrix = parse_matrix(PUZZLE_PATH)\n",
    "if 6 in matrix[0]:\n",
    "  return True\n",
    "else:\n",
    "  return False\n"
   ]
  },
  {
   "metadata": {
    "ExecuteTime": {
     "end_time": "2025-09-05T19:29:18.844693Z",
     "start_time": "2025-09-05T19:29:18.823922Z"
    }
   },
   "cell_type": "code",
   "source": [
    "class ga_node (matrix):\n",
    "    def __init__(self, cord_x, cord_y):\n",
    "        self.cord_x = cord_x"
   ],
   "outputs": [
    {
     "ename": "SyntaxError",
     "evalue": "invalid syntax (451626592.py, line 1)",
     "output_type": "error",
     "traceback": [
      "  \u001B[36mCell\u001B[39m\u001B[36m \u001B[39m\u001B[32mIn[10]\u001B[39m\u001B[32m, line 1\u001B[39m\n\u001B[31m    \u001B[39m\u001B[31mclass\u001B[39m\n          ^\n\u001B[31mSyntaxError\u001B[39m\u001B[31m:\u001B[39m invalid syntax\n"
     ]
    }
   ],
   "execution_count": 10
  },
  {
   "metadata": {},
   "cell_type": "markdown",
   "source": "# Helper Functions\n"
  },
  {
   "metadata": {
    "ExecuteTime": {
     "end_time": "2025-09-05T19:50:37.008937Z",
     "start_time": "2025-09-05T19:50:36.998936Z"
    }
   },
   "cell_type": "code",
   "source": [
    "def get_row_values(sudoku_state, row, col):\n",
    "  value = sudoku_state[row][col]\n",
    "  my_set = set(sudoku_state[row])\n",
    "  return my_set\n",
    "\n",
    "print(get_row_values(parse_matrix(PUZZLE_PATH),0,0))"
   ],
   "outputs": [
    {
     "name": "stdout",
     "output_type": "stream",
     "text": [
      "{'9', '1', '?', '7', '4', '2'}\n"
     ]
    }
   ],
   "execution_count": 73
  },
  {
   "metadata": {
    "ExecuteTime": {
     "end_time": "2025-09-05T19:53:39.692749Z",
     "start_time": "2025-09-05T19:53:39.681447Z"
    }
   },
   "cell_type": "code",
   "source": [
    "def get_col_values(sudoku_state, row, col):\n",
    "  value = sudoku_state[row][col]\n",
    "  my_set = set()\n",
    "  for i in range(9):\n",
    "    my_set.add(sudoku_state[i][col])\n",
    "\n",
    "  return my_set\n",
    "\n",
    "print(get_col_values(parse_matrix(PUZZLE_PATH),0,1))"
   ],
   "outputs": [
    {
     "name": "stdout",
     "output_type": "stream",
     "text": [
      "{'?', '2', '3'}\n"
     ]
    }
   ],
   "execution_count": 82
  },
  {
   "metadata": {
    "ExecuteTime": {
     "end_time": "2025-09-05T19:52:51.402938Z",
     "start_time": "2025-09-05T19:52:51.384792Z"
    }
   },
   "cell_type": "code",
   "source": "def create_ga_state(raw_sudoku_state):\n",
   "outputs": [
    {
     "ename": "_IncompleteInputError",
     "evalue": "incomplete input (2535199512.py, line 1)",
     "output_type": "error",
     "traceback": [
      "  \u001B[36mCell\u001B[39m\u001B[36m \u001B[39m\u001B[32mIn[79]\u001B[39m\u001B[32m, line 1\u001B[39m\n\u001B[31m    \u001B[39m\u001B[31mdef create_ga_state(raw_sudoku_state):\u001B[39m\n                                          ^\n\u001B[31m_IncompleteInputError\u001B[39m\u001B[31m:\u001B[39m incomplete input\n"
     ]
    }
   ],
   "execution_count": 79
  }
 ]
}
