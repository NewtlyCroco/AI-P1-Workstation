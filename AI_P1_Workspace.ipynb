{
 "nbformat": 4,
 "nbformat_minor": 0,
 "metadata": {
  "colab": {
   "provenance": []
  },
  "kernelspec": {
   "name": "python3",
   "display_name": "Python 3 (ipykernel)",
   "language": "python"
  },
  "language_info": {
   "name": "python"
  }
 },
 "cells": [
  {
   "metadata": {},
   "cell_type": "markdown",
   "source": "# Introduction"
  },
  {
   "metadata": {},
   "cell_type": "markdown",
   "source": [
    "Welcome to the P1 Workspace with Group 14:\n",
    "Will Mitchell\n",
    "Trevor Gordon\n"
   ]
  },
  {
   "metadata": {},
   "cell_type": "markdown",
   "source": "Below are some prelimnary Helper methods that benifit the program as a whole with the starting code parameters"
  },
  {
   "metadata": {
    "ExecuteTime": {
     "end_time": "2025-09-12T01:58:58.640424Z",
     "start_time": "2025-09-12T01:58:58.635156Z"
    }
   },
   "cell_type": "code",
   "source": [
    "\n",
    "# Parameters\n",
    "GROUP_ID = 'Group14'\n",
    "ALGORITHM = 'bt'\n",
    "PUZZLE_TYPE = 'easy'\n",
    "PUZZLE_PATH = 'puzzles/Easy-P1.txt'"
   ],
   "outputs": [],
   "execution_count": 379
  },
  {
   "metadata": {
    "ExecuteTime": {
     "end_time": "2025-09-12T01:59:00.581494Z",
     "start_time": "2025-09-12T01:59:00.577403Z"
    }
   },
   "cell_type": "code",
   "source": [
    "#imports\n",
    "import random\n",
    "import math\n",
    "import matplotlib.pyplot as plt\n",
    "import numpy as np\n",
    "from pymongo.message import MAX_INT32\n"
   ],
   "outputs": [],
   "execution_count": 380
  },
  {
   "metadata": {
    "ExecuteTime": {
     "end_time": "2025-09-12T01:59:03.198602Z",
     "start_time": "2025-09-12T01:59:03.194533Z"
    }
   },
   "cell_type": "code",
   "source": [
    "def algorithm_setup_function(PUZZLE_PATH, PUZZLE_TYPE, algorithm):\n",
    "    #all algorithms below when this functions runs will print their respective results below with a generated graph\n",
    "    match algorithm:\n",
    "        case 'bt':\n",
    "            if(PUZZLE_TYPE == 'easy'):\n",
    "                print('run bt algo here')\n",
    "            else:\n",
    "                print('backtracking only allowed with easy PUZZLE_TYPE')\n",
    "\n",
    "        case 'fc':\n",
    "            print('run fc algo here')\n",
    "\n",
    "        case 'ac3':\n",
    "            print('run ac3 algo here')\n",
    "\n",
    "        case 'sa':\n",
    "            #for a general standard, 10000 iterations generates the appropriate trend increase if you would like\n",
    "            result_node =  simulated_annealing(10000)\n",
    "            parse_to_file(result_node.matrix)\n",
    "        case 'ga':\n",
    "            print('run ga algo here')\n",
    "\n",
    "        case _:\n",
    "            raise Exception('Invalid algorithm')"
   ],
   "outputs": [],
   "execution_count": 381
  },
  {
   "metadata": {},
   "cell_type": "code",
   "outputs": [],
   "execution_count": null,
   "source": [
    "def parse_to_file(matrix):\n",
    "    #remember naming conventions and output file locations\n"
   ]
  },
  {
   "metadata": {},
   "cell_type": "markdown",
   "source": "# Helper Functions\n"
  },
  {
   "metadata": {
    "ExecuteTime": {
     "end_time": "2025-09-12T01:59:06.571229Z",
     "start_time": "2025-09-12T01:59:06.563477Z"
    }
   },
   "cell_type": "code",
   "source": [
    "def parse_matrix(file_path: str):\n",
    "    with open(file_path, mode=\"r\") as file:\n",
    "        new_matrix = []\n",
    "        for line in file:\n",
    "            new_line_array = line.replace(\"\\n\", \"\").replace(\"\\ufeff\", \"\").split(\",\")\n",
    "            new_matrix.append(new_line_array)\n",
    "\n",
    "    file.close()\n",
    "    new_matrix[0][0] = str(new_matrix[0][0])[-1:]\n",
    "    return new_matrix\n",
    "\n",
    "\n",
    "parse_matrix(PUZZLE_PATH)\n",
    "\n"
   ],
   "outputs": [
    {
     "data": {
      "text/plain": [
       "[['?', '?', '8', '?', '5', '6', '?', '?', '?'],\n",
       " ['7', '?', '4', '?', '?', '?', '6', '1', '9'],\n",
       " ['?', '?', '?', '?', '?', '?', '8', '5', '?'],\n",
       " ['6', '?', '7', '?', '2', '9', '5', '?', '?'],\n",
       " ['?', '?', '9', '?', '6', '?', '1', '?', '?'],\n",
       " ['?', '?', '2', '3', '1', '?', '9', '?', '4'],\n",
       " ['?', '3', '5', '?', '?', '?', '?', '?', '?'],\n",
       " ['4', '2', '1', '?', '?', '?', '3', '?', '6'],\n",
       " ['?', '?', '?', '8', '3', '?', '4', '?', '?']]"
      ]
     },
     "execution_count": 382,
     "metadata": {},
     "output_type": "execute_result"
    }
   ],
   "execution_count": 382
  },
  {
   "metadata": {
    "ExecuteTime": {
     "end_time": "2025-09-12T01:57:49.415590Z",
     "start_time": "2025-09-12T01:57:49.405671Z"
    }
   },
   "cell_type": "code",
   "source": [
    "def get_square_values(matrix_state, cord_x, cord_y):\n",
    "    #first row box\n",
    "    matrix_x_range = ()\n",
    "    matrix_y_range = ()\n",
    "    if cord_x <= 2 and cord_y <= 2:\n",
    "        matrix_x_range = (0, 2)\n",
    "        matrix_y_range = (0, 2)\n",
    "    elif (2 < cord_x <= 5) and (cord_y <= 2):\n",
    "        matrix_x_range = (3, 5)\n",
    "        matrix_y_range = (0, 2)\n",
    "\n",
    "    elif (5 < cord_x <= 8) and (cord_y <= 2):\n",
    "        matrix_x_range = (6, 8)\n",
    "        matrix_y_range = (0, 2)\n",
    "\n",
    "    #second row boxes\n",
    "    elif cord_x <= 2 and 2 < cord_y <= 5:\n",
    "        matrix_x_range = (0, 2)\n",
    "        matrix_y_range = (3, 5)\n",
    "\n",
    "    elif (2 < cord_x <= 5) and 2 < cord_y <= 5:\n",
    "        matrix_x_range = (3, 5)\n",
    "        matrix_y_range = (3, 5)\n",
    "\n",
    "    elif (5 < cord_x <= 8) and 2 < cord_y <= 5:\n",
    "        matrix_x_range = (6, 8)\n",
    "        matrix_y_range = (3, 5)\n",
    "\n",
    "\n",
    "    #third row boxes\n",
    "\n",
    "    elif cord_x <= 2 and 5 < cord_y <= 8:\n",
    "        matrix_x_range = (0, 2)\n",
    "        matrix_y_range = (6, 8)\n",
    "\n",
    "    elif (2 < cord_x <= 5) and 5 < cord_y <= 8:\n",
    "        matrix_x_range = (3, 5)\n",
    "        matrix_y_range = (6, 8)\n",
    "\n",
    "\n",
    "    elif (5 < cord_x <= 8) and 5 < cord_y <= 8:\n",
    "        matrix_x_range = (6, 8)\n",
    "        matrix_y_range = (6, 8)\n",
    "\n",
    "    square_values = []\n",
    "    for y in range(matrix_y_range[0], matrix_y_range[1] + 1):\n",
    "        for x in range(matrix_x_range[0], matrix_x_range[1] + 1):\n",
    "            if (cord_y, cord_x) != (y, x):\n",
    "                square_values.append(matrix_state[y][x])\n",
    "\n",
    "    return square_values\n",
    "\n",
    "\n",
    "#testing functionality, try it out!\n",
    "print(get_square_values(parse_matrix(PUZZLE_PATH), 5, 5))\n"
   ],
   "outputs": [
    {
     "name": "stdout",
     "output_type": "stream",
     "text": [
      "['?', '2', '9', '?', '6', '?', '3', '1']\n"
     ]
    }
   ],
   "execution_count": 373
  },
  {
   "metadata": {
    "ExecuteTime": {
     "end_time": "2025-09-12T01:23:43.482633Z",
     "start_time": "2025-09-12T01:23:43.475928Z"
    }
   },
   "cell_type": "code",
   "source": [
    "def get_row_values(sudoku_state, cord_x, cord_y):\n",
    "    #chose to keep both parameters just for normality and to keep our alldiff functions flow well and read well\n",
    "    temp_row = []\n",
    "    for row_value in range(0, 9):\n",
    "        if (cord_y, row_value) != (cord_y, cord_x):\n",
    "            temp_row.append(sudoku_state[cord_y][row_value])\n",
    "    return temp_row\n",
    "\n",
    "\n",
    "#try out the function\n",
    "print(get_row_values(parse_matrix(PUZZLE_PATH), 1, 1))"
   ],
   "outputs": [
    {
     "name": "stdout",
     "output_type": "stream",
     "text": [
      "['7', '4', '?', '?', '?', '6', '1', '9']\n"
     ]
    }
   ],
   "execution_count": 350
  },
  {
   "metadata": {
    "ExecuteTime": {
     "end_time": "2025-09-12T01:23:45.480689Z",
     "start_time": "2025-09-12T01:23:45.474806Z"
    }
   },
   "cell_type": "code",
   "source": [
    "def get_column_values(sudoku_state, cord_x, cord_y):\n",
    "    #chose to keep both parameters just for normality and to keep our alldiff functions flow well and read well\n",
    "    column_values = []\n",
    "    for col in range(0, 9):\n",
    "        if col != cord_y:\n",
    "            #we don't want to add our actual value we are looking at to list\n",
    "            column_values.append(sudoku_state[col][cord_x])\n",
    "    return column_values\n",
    "    #because range is not inclusive\n",
    "\n",
    "\n",
    "print(get_column_values(parse_matrix(PUZZLE_PATH), 8, 1))"
   ],
   "outputs": [
    {
     "name": "stdout",
     "output_type": "stream",
     "text": [
      "['?', '?', '?', '?', '4', '?', '6', '?']\n"
     ]
    }
   ],
   "execution_count": 351
  },
  {
   "metadata": {
    "ExecuteTime": {
     "end_time": "2025-09-12T01:23:47.529660Z",
     "start_time": "2025-09-12T01:23:47.520924Z"
    }
   },
   "cell_type": "code",
   "source": [
    "def alldiff(sudoku_state, cord_x, cord_y):\n",
    "    #we are assuming the location of this point is NOT a hardcoded value, we will handle search validation elsewhere\n",
    "    num_conflicts = 0\n",
    "    #we want to cast as int, to tallying conflicts of hardcoded values to our total conflicts\n",
    "    space_value = int(sudoku_state[cord_y][cord_x])\n",
    "    row_values = get_row_values(sudoku_state, cord_x, cord_y)\n",
    "    column_values = get_column_values(sudoku_state, cord_x, cord_y)\n",
    "    square_values = get_square_values(sudoku_state, cord_x, cord_y)\n",
    "\n",
    "    for value in row_values:\n",
    "        if space_value == int(value):  # Cast to int here\n",
    "            num_conflicts += 1\n",
    "\n",
    "    for value in column_values:\n",
    "        if space_value == int(value):\n",
    "            num_conflicts += 1\n",
    "\n",
    "    for value in square_values:\n",
    "        if space_value == int(value):\n",
    "            num_conflicts += 1\n",
    "\n",
    "    return num_conflicts"
   ],
   "outputs": [],
   "execution_count": 352
  },
  {
   "metadata": {
    "ExecuteTime": {
     "end_time": "2025-09-12T01:59:16.916051Z",
     "start_time": "2025-09-12T01:59:16.912684Z"
    }
   },
   "cell_type": "code",
   "source": [
    "def get_row_values_back(sudoku_state, row, col):\n",
    "  my_set = set(sudoku_state[row])\n",
    "  return my_set\n",
    "\n",
    "# print(get_row_values(parse_matrix(PUZZLE_PATH),0,0))"
   ],
   "outputs": [],
   "execution_count": 383
  },
  {
   "metadata": {
    "ExecuteTime": {
     "end_time": "2025-09-12T01:59:18.245680Z",
     "start_time": "2025-09-12T01:59:18.241396Z"
    }
   },
   "cell_type": "code",
   "source": [
    "def get_col_values_back(sudoku_state, row, col):\n",
    "  my_set = set()\n",
    "  for i in range(9):\n",
    "      my_set.add(sudoku_state[i][col])\n",
    "\n",
    "\n",
    "  return my_set\n",
    "\n",
    "print(get_col_values_back(parse_matrix(PUZZLE_PATH),0,0))"
   ],
   "outputs": [
    {
     "name": "stdout",
     "output_type": "stream",
     "text": [
      "{'6', '4', '?', '7'}\n"
     ]
    }
   ],
   "execution_count": 384
  },
  {
   "metadata": {
    "ExecuteTime": {
     "end_time": "2025-09-12T01:59:20.190183Z",
     "start_time": "2025-09-12T01:59:20.182712Z"
    }
   },
   "cell_type": "code",
   "source": [
    "def get_square_values_back(sudoku_state, row, col):\n",
    "    #top left box\n",
    "    if col <= 2 and row <= 2:\n",
    "        col_indexes = [0,1,2]\n",
    "        row_indexes = [0,1,2]\n",
    "\n",
    "    #top middle box\n",
    "    elif (2 < col <= 5) and (row <= 2):\n",
    "        col_indexes = [3,4,5]\n",
    "        row_indexes = [0,1,2]\n",
    "\n",
    "    #top right box\n",
    "    elif (5 < col <= 8) and (row <= 2):\n",
    "        col_indexes = [6,7,8]\n",
    "        row_indexes = [0,1,2]\n",
    "\n",
    "    #middle left box\n",
    "    elif (col <= 2) and (2 < row <= 5):\n",
    "        col_indexes = [0,1,2]\n",
    "        row_indexes = [3,4,5]\n",
    "\n",
    "    #middle middle box\n",
    "    elif (2 < col <= 5) and (2 < row <= 5):\n",
    "        col_indexes = [3,4,5]\n",
    "        row_indexes = [3,4,5]\n",
    "\n",
    "    #middle right box\n",
    "    elif (5 < col <= 8) and (2 < row <= 5):\n",
    "        col_indexes = [6,7,8]\n",
    "        row_indexes = [3,4,5]\n",
    "\n",
    "    #bottom left box\n",
    "    elif (col <= 2) and (row > 5):\n",
    "        col_indexes = [0,1,2]\n",
    "        row_indexes = [6,7,8]\n",
    "\n",
    "    #bottom middle box\n",
    "    elif (2 < col <= 5) and (row > 5):\n",
    "        col_indexes = [3,4,5]\n",
    "        row_indexes = [6,7,8]\n",
    "\n",
    "    #bottom right box\n",
    "    elif (5 < col <= 8) and (row > 5):\n",
    "        col_indexes = [6,7,8]\n",
    "        row_indexes = [6,7,8]\n",
    "\n",
    "    my_set = set()\n",
    "    for i in row_indexes:\n",
    "            for j in col_indexes:\n",
    "                if sudoku_state[i][j] != '?':\n",
    "                      my_set.add(sudoku_state[i][j])\n",
    "    return my_set\n",
    "\n",
    "\n",
    "\n",
    "print(get_square_values_back(parse_matrix(PUZZLE_PATH), 6, 1))"
   ],
   "outputs": [
    {
     "name": "stdout",
     "output_type": "stream",
     "text": [
      "{'3', '5', '2', '1', '4'}\n"
     ]
    }
   ],
   "execution_count": 385
  },
  {
   "metadata": {
    "ExecuteTime": {
     "end_time": "2025-09-12T01:59:25.757602Z",
     "start_time": "2025-09-12T01:59:25.750849Z"
    }
   },
   "cell_type": "code",
   "source": [
    "\n",
    "def get_unavailable_nums(sudoku_state, row, col):\n",
    "    unavail_row = get_row_values_back(sudoku_state,row, col)\n",
    "    unavail_col = get_col_values_back(sudoku_state,row, col)\n",
    "    unavail_square = get_square_values_back(sudoku_state, row, col)\n",
    "    my_set = unavail_row.union(unavail_col, unavail_square)\n",
    "    return my_set\n",
    "\n",
    "get_unavailable_nums(parse_matrix(PUZZLE_PATH),0,2)"
   ],
   "outputs": [
    {
     "data": {
      "text/plain": [
       "{'1', '2', '4', '5', '6', '7', '8', '9', '?'}"
      ]
     },
     "execution_count": 386,
     "metadata": {},
     "output_type": "execute_result"
    }
   ],
   "execution_count": 386
  },
  {
   "metadata": {},
   "cell_type": "markdown",
   "source": "# Genetic Algorithm Functions"
  },
  {
   "metadata": {},
   "cell_type": "code",
   "outputs": [],
   "execution_count": null,
   "source": [
    "#planning\n",
    "# penaty function (exogenous fitness) -> using the same method on simulated node for finding lowest\n",
    "# replacement -> lets just do generational replacement, we can add steady state when we feel more confident\n",
    "# Tournment selection style -> selecting individuals is probabalistic from population, but replacement is not\n",
    "# Think about selection pressures, what are the probablities to select more fit verus less fit individuals\n",
    "# we could take the average of the total conflicts each new population as testings\n"
   ]
  },
  {
   "metadata": {
    "ExecuteTime": {
     "end_time": "2025-09-11T19:06:12.167900Z",
     "start_time": "2025-09-11T19:06:12.157276Z"
    }
   },
   "cell_type": "code",
   "source": [
    "def get_average(current_generation_conflict_count):\n",
    "    total_value = 0\n",
    "    for value in range(len(current_generation_conflict_count)):\n",
    "        total_value += current_generation_conflict_count[value]\n",
    "\n",
    "    return total_value / len(current_generation_conflict_count)\n",
    "print(get_average([8,9,10,4,5,7,3,6,2,8]))\n",
    "\n",
    "\n",
    "def crossover(selected_parents):\n",
    "    pass\n",
    "\n",
    "\n",
    "def mutation(children_crossovers):\n",
    "    pass\n",
    "\n",
    "\n",
    "\n",
    "\n",
    "\n",
    "def genetic_algorithm_tournement(max_iterations):\n",
    "    k = 0\n",
    "    population_size = 0 #must be even size\n",
    "    generational_conflict_count = [] # will typically be float\n",
    "\n",
    "    current_population = create_population(population_size)#random k assignments with totally randomly generated states\n",
    "    for generations in range(0, max_iterations):\n",
    "        current_generation_conflict_count = []\n",
    "        for individual in current_population:\n",
    "            current_generation_conflict_count.append(individual.get_conflicts)\n",
    "            if individual.get_conflicts == 0 or generations == (max_iterations-1):\n",
    "                generation_conflict_average = get_average(current_generation_conflict_count)\n",
    "                generational_conflict_count.append(generation_conflict_average)\n",
    "                return individual, generational_conflict_count\n",
    "        generational_conflict_count.append(get_average(current_generation_conflict_count))\n",
    "        #we have made a new population and we have made sure our answer is not a part of it by this point\n",
    "        selected_parents = tournement_selection(current_population, k) #returns array of selected parents to build next generation\n",
    "        children_crossovers = crossover(selected_parents)# with the crossovers being again random\n",
    "        mutated_children = mutation(children_crossovers)\n",
    "        current_population = mutated_children\n",
    "    return None"
   ],
   "outputs": [
    {
     "name": "stdout",
     "output_type": "stream",
     "text": [
      "6.2\n"
     ]
    }
   ],
   "execution_count": 18
  },
  {
   "metadata": {
    "ExecuteTime": {
     "end_time": "2025-09-11T18:53:25.921357Z",
     "start_time": "2025-09-11T18:53:25.907734Z"
    }
   },
   "cell_type": "code",
   "source": [
    "def create_population(population_size):\n",
    "    population = []\n",
    "    for individual in range(0,population_size):\n",
    "       new_individual = ga_state_node(parse_matrix(PUZZLE_PATH))\n",
    "       new_individual.fill_random_values()\n",
    "       new_individual.process_total_conflicts()\n",
    "       population.append(new_individual)\n",
    "    return population\n",
    "\n",
    "#test_population = create_population(5)\n",
    "#for individual in test_population:\n",
    "#    print(individual.get_conflict())"
   ],
   "outputs": [
    {
     "name": "stdout",
     "output_type": "stream",
     "text": [
      "106\n",
      "128\n",
      "121\n",
      "127\n",
      "122\n"
     ]
    }
   ],
   "execution_count": 17
  },
  {
   "metadata": {
    "ExecuteTime": {
     "end_time": "2025-09-11T18:51:44.148816300Z",
     "start_time": "2025-09-11T18:50:52.344232Z"
    }
   },
   "cell_type": "code",
   "source": [
    "class ga_state_node():\n",
    "    #overall much is borrowed from the SA state node layout, with some key changes for how the genetic algorithm works\n",
    "    # the philosophy of most of these programs is keep lots of the functionally on the methods of the states, so as tied closer to the nodes, additionally\n",
    "    # making the actual algorithm code cleaner and maintaining SOP\n",
    "    def __init__(self, raw_matrix):\n",
    "        self.matrix = raw_matrix\n",
    "        self.num_conflict = -1\n",
    "\n",
    "    def __str__(self):\n",
    "        str_builder = \"\"\n",
    "        for rows in self.matrix:\n",
    "            str_builder += str(rows)\n",
    "            str_builder += \"\\n\"\n",
    "        return str_builder\n",
    "\n",
    "    def get_conflict(self):\n",
    "        return self.num_conflict\n",
    "\n",
    "    def process_total_conflicts(self):\n",
    "        current_state_conflicts = 0\n",
    "        for col_index in range(0, 9):\n",
    "            for row_index in range(0, 9):\n",
    "                if not isinstance(self.matrix[col_index][row_index], str):\n",
    "                    current_state_conflicts += alldiff(self.matrix, row_index, col_index)\n",
    "        self.num_conflict = current_state_conflicts\n",
    "\n",
    "    # we are distinguishing our hardcoded values from our mutable values from the data type. in our filling random values, we only fill the question marks with integers\n",
    "    # If we encounter a str type in our search, we skip it as it is a hardcoded value\n",
    "    def fill_random_values(self):\n",
    "        for col in range(len(self.matrix)):\n",
    "            for row in range(len(self.matrix[col])):\n",
    "                if self.matrix[col][row] == '?':\n",
    "                    self.matrix[col][row] = int(random.randint(1, 9))\n",
    "                    #fills question marks with random values\n",
    "\n",
    "    def get_highest_conflict_value(self):\n",
    "        #this method is essentially the minimum conflict heuristic added to our states as a method, we use this in conjunction with the the helper function alldiff to return the highest conflict square\n",
    "        worse_value = -1\n",
    "        worse_row_index = 0\n",
    "        worse_col_index = 0\n",
    "        for col_index in range(0, 9):\n",
    "            for row_index in range(0, 9):\n",
    "                if not isinstance(self.matrix[col_index][row_index], str):\n",
    "                    conflict_position = alldiff(self.matrix, row_index, col_index)\n",
    "                    if conflict_position > worse_value:\n",
    "                        worse_value = conflict_position\n",
    "                        worse_row_index = row_index\n",
    "                        worse_col_index = col_index\n",
    "        return worse_row_index, worse_col_index\n",
    "\n",
    "\n"
   ],
   "outputs": [],
   "execution_count": 2
  },
  {
   "metadata": {},
   "cell_type": "code",
   "outputs": [],
   "execution_count": null,
   "source": [
    "def tournement_selection(current_population, contestant_round_size):\n",
    "    population_size = len(current_population)\n",
    "    tournament_rounds = population_size // 2 #think about this??? we will only select half the population to return and the best\n",
    "    tournament_winners = []\n",
    "    for rounds in range(0, tournament_rounds):\n",
    "        round_winner = None\n",
    "        round_minimum_conflict = MAX_INT32\n",
    "        round_contestants = []\n",
    "\n",
    "        for uniform_pick in range(0, contestant_round_size):\n",
    "            random.shuffle(current_population)\n",
    "            round_contestants.append(current_population[0])\n",
    "\n",
    "        for contestant in round_contestants:\n",
    "            if contestant.get_conflicts() < round_minimum_conflict:\n",
    "                round_winner = contestant\n",
    "                round_minimum_conflict = contestant.get_conflicts()\n",
    "\n",
    "        tournament_winners.append(round_winner)\n",
    "\n"
   ]
  },
  {
   "metadata": {},
   "cell_type": "markdown",
   "source": "# Simulated Annealing Algorithm Functions"
  },
  {
   "metadata": {},
   "cell_type": "code",
   "source": [
    "def schedule(time_iteration):\n",
    "    #Arbitrary hyperparameter\n",
    "    t0 = 120\n",
    "    #our initial temp\n",
    "    alpha = .995\n",
    "    #perctage of cooling down per iteration\n",
    "\n",
    "    if time_iteration < 1000:\n",
    "        return t0 * (alpha ** time_iteration)\n",
    "    elif time_iteration < 4000:\n",
    "        return t0 * ((alpha-.0005) ** time_iteration)\n",
    "    else:\n",
    "        #exploration versus explotation, after a number of exploritory searches, we wanna start narrowing the search\n",
    "        return t0 * ((alpha-.005) ** time_iteration)\n",
    "\n",
    "    #ive tuned this a bunch, this should mean around 5% cooling per cycle\n"
   ],
   "outputs": [],
   "execution_count": null
  },
  {
   "metadata": {},
   "cell_type": "code",
   "source": [
    "class sa_state_node():\n",
    "    def __init__(self, raw_matrix):\n",
    "        self.matrix = raw_matrix\n",
    "        self.num_conflicts = [-1]\n",
    "        # how winning nodes do.\n",
    "        self.children = []  # array of children that the given node has.\n",
    "        #we want to immediately be able to know which indexes are hardcoded or not for a basic constraint\n",
    "\n",
    "    def __str__(self):\n",
    "        str_builder = \"\"\n",
    "        for rows in self.matrix:\n",
    "            str_builder += str(rows)\n",
    "            str_builder += \"\\n\"\n",
    "        return str_builder\n",
    "\n",
    "    def get_conflict(self):\n",
    "        return int(self.num_conflicts[len(self.num_conflicts) - 1])\n",
    "\n",
    "    def process_total_conflicts(self):\n",
    "        current_state_conflicts = 0\n",
    "        for col_index in range(0, 9):\n",
    "            for row_index in range(0, 9):\n",
    "                if not isinstance(self.matrix[col_index][row_index], str):\n",
    "                    current_state_conflicts += alldiff(self.matrix, row_index, col_index)\n",
    "        self.num_conflicts.append(current_state_conflicts)\n",
    "        # a clever system to keep track of the conflicts per state could be used for post analysis as a metric to see how rapidly between\n",
    "\n",
    "    # we are distinguishing our hardcoded values from our mutable values from the data type. in our filling random values, we only fill the question marks with integers\n",
    "    # If we encounter a str type in our search, we skip it as it is a hardcoded value\n",
    "    def fill_random_values(self):\n",
    "        for col in range(len(self.matrix)):\n",
    "            for row in range(len(self.matrix[col])):\n",
    "                if self.matrix[col][row] == '?':\n",
    "                    self.matrix[col][row] = int(random.randint(1, 9))\n",
    "                    #fills question marks with random values\n",
    "\n",
    "    def get_highest_conflict_value(self):\n",
    "        #this method is essentially the minimum conflict heuristic added to our states as a method, we use this in conjunction with the the helper function alldiff to return the highest conflict square\n",
    "        worse_value = -1\n",
    "        worse_row_index = 0\n",
    "        worse_col_index = 0\n",
    "        for col_index in range(0, 9):\n",
    "            for row_index in range(0, 9):\n",
    "                if not isinstance(self.matrix[col_index][row_index], str):\n",
    "                    conflict_position = alldiff(self.matrix, row_index, col_index)\n",
    "                    if conflict_position > worse_value:\n",
    "                        worse_value = conflict_position\n",
    "                        worse_row_index = row_index\n",
    "                        worse_col_index = col_index\n",
    "        return worse_row_index, worse_col_index\n",
    "\n",
    "\n",
    "\n",
    "    def generate_neighbor(self):\n",
    "        percent_worse_conflict_choice = .2\n",
    "        #this hyperparameter is directly related to our minimum conflict heuristic, enabling us to choose the percentage that a the worst value gets picked to change\n",
    "        # versus picking a completely random value to change. Allowing a half and half min conflict heuristic still with some ability to diversity\n",
    "        while True:\n",
    "            rand_x = random.randint(0, 8)\n",
    "            rand_y = random.randint(0, 8)\n",
    "            print(self.matrix)\n",
    "            if not isinstance(self.matrix[rand_y][rand_x], str):\n",
    "                #was having problems, this make an actual copy to give to the next state, and not the reference like I had before\n",
    "                new_neighbor_matrix = []\n",
    "                for row in self.matrix:\n",
    "                    new_row = []\n",
    "                    for cell in row:\n",
    "                        new_row.append(cell)\n",
    "                    new_neighbor_matrix.append(new_row)\n",
    "                #this is a small optimization strategy of picking the most conflicting space to change randomly\n",
    "                new_neighbor_node = sa_state_node(new_neighbor_matrix)\n",
    "                #we just grab a percentage chance against our additional hyperparameter\n",
    "                random_choice = random.random()\n",
    "                if random_choice < percent_worse_conflict_choice:\n",
    "                    new_neighbor_node.matrix[rand_y][rand_x] = random.randint(1, 9)\n",
    "                else:\n",
    "                    worst_x, worst_y = new_neighbor_node.get_highest_conflict_value()\n",
    "                    new_neighbor_node.matrix[worst_y][worst_x] = random.randint(1, 9)\n",
    "\n",
    "                break\n",
    "\n",
    "        return new_neighbor_node\n",
    "\n",
    "\n",
    "#Testing, you can take a look at how we are generating the matricies\n",
    "test = sa_state_node(parse_matrix(PUZZLE_PATH))\n",
    "test.process_total_conflicts()\n",
    "print(test.get_conflict())"
   ],
   "outputs": [],
   "execution_count": null
  },
  {
   "metadata": {
    "ExecuteTime": {
     "end_time": "2025-09-11T18:51:44.174816700Z",
     "start_time": "2025-09-11T18:51:29.695220Z"
    }
   },
   "cell_type": "code",
   "source": [
    "def probability(delta_e, T):\n",
    "    #this could be boltzman constant but we are using one for now\n",
    "    if T == 0:\n",
    "       return False\n",
    "    try:\n",
    "        chance = math.exp(-delta_e / (1 * T))\n",
    "        #1 is our k, i switch it out with boltzman constant to see differences\n",
    "        return random.random() < chance\n",
    "    except OverflowError:\n",
    "        #needed as a just in case\n",
    "        return False\n",
    "\n",
    "\n",
    "def simulated_annealing(max_iterations):\n",
    "    conflict_history = []\n",
    "    #global history varible to see how conflicts are changed over time super useful for testing\n",
    "    current = sa_state_node(parse_matrix(PUZZLE_PATH))\n",
    "    #initialised state/node with puzzle input filled in random values.\n",
    "    current.fill_random_values()\n",
    "    current.num_conflicts = conflict_history\n",
    "    current.process_total_conflicts()\n",
    "\n",
    "    for time_iteration in range(max_iterations):\n",
    "        T = schedule(time_iteration)\n",
    "        if T == 0 or current.get_conflict() == 0:\n",
    "            return current\n",
    "        current_conflicts = current.get_conflict()\n",
    "        next = current.generate_neighbor()\n",
    "        next.num_conflicts = conflict_history\n",
    "        next.process_total_conflicts()\n",
    "        next_conflicts = next.get_conflict()\n",
    "        delta_e = next_conflicts - current_conflicts\n",
    "        if delta_e < 0:\n",
    "            #critial, we want negitive change!! we are minimizing conflicts over generations\n",
    "            current = next\n",
    "        else:\n",
    "            if probability(delta_e, T):\n",
    "                current = next\n",
    "    return current\n",
    "\n",
    "\n",
    "#plt.ylabel(\"Number of Total Conflicts In State\")\n",
    "#plt.xlabel(\"Number of Iterations\")\n",
    "#plt.plot(winning_node.num_conflicts)"
   ],
   "outputs": [],
   "execution_count": 3
  },
  {
   "metadata": {},
   "cell_type": "markdown",
   "source": "# Backtracking Algorithm Functions"
  },
  {
   "metadata": {
    "ExecuteTime": {
     "end_time": "2025-09-12T02:31:26.360610Z",
     "start_time": "2025-09-12T02:31:26.346179Z"
    }
   },
   "cell_type": "code",
   "source": [
    "\n",
    "def is_available(sudoku_state, row, col, num):\n",
    "    # uses get_unavailable_nums to return what nums are there already\n",
    "    #then just returns true or false if num is available\n",
    "    my_list = get_unavailable_nums(sudoku_state,row,col)\n",
    "    if str(num) in my_list:\n",
    "        return False\n",
    "    else:\n",
    "        return True\n",
    "\n",
    "\n",
    "def solver_back(sudoku_state, row, col):\n",
    "    #if sudoku board is complete\n",
    "    if row == 8 and col == 9:\n",
    "        return True\n",
    "\n",
    "    # If last column of the row go to the next row\n",
    "    if col == 9:\n",
    "        row += 1\n",
    "        col = 0\n",
    "\n",
    "    # If spot is already filled then go to next\n",
    "    if sudoku_state[row][col] != '?':\n",
    "        return solver_back(sudoku_state, row, col+1)\n",
    "\n",
    "    for num in range(1, 10):\n",
    "        # If num is available in the current spot add it\n",
    "        if is_available(sudoku_state, row, col, num):\n",
    "            sudoku_state[row][col] = str(num)\n",
    "            #TODO: add global counter for num_steps\n",
    "            if solver_back(sudoku_state, row, col+1):\n",
    "                return True\n",
    "            sudoku_state[row][col] = '?'\n",
    "    #TODO: add global counter for num_backtracks\n",
    "    return False\n",
    "\n",
    "def solveSudoku_back(sudoku_state): #starts recursive solving\n",
    "    solver_back(sudoku_state, 0, 0)\n",
    "    for line in sudoku_state:\n",
    "        print(line)\n",
    "\n",
    "solveSudoku_back(parse_matrix(PUZZLE_PATH))"
   ],
   "outputs": [
    {
     "name": "stdout",
     "output_type": "stream",
     "text": [
      "['1', '9', '8', '7', '5', '6', '2', '4', '3']\n",
      "['7', '5', '4', '2', '8', '3', '6', '1', '9']\n",
      "['2', '6', '3', '1', '9', '4', '8', '5', '7']\n",
      "['6', '1', '7', '4', '2', '9', '5', '3', '8']\n",
      "['3', '4', '9', '5', '6', '8', '1', '7', '2']\n",
      "['5', '8', '2', '3', '1', '7', '9', '6', '4']\n",
      "['8', '3', '5', '6', '4', '2', '7', '9', '1']\n",
      "['4', '2', '1', '9', '7', '5', '3', '8', '6']\n",
      "['9', '7', '6', '8', '3', '1', '4', '2', '5']\n"
     ]
    }
   ],
   "execution_count": 411
  },
  {
   "metadata": {},
   "cell_type": "markdown",
   "source": "# Forward Checking Algorithm Functions"
  },
  {
   "metadata": {
    "ExecuteTime": {
     "end_time": "2025-09-12T02:00:19.282694Z",
     "start_time": "2025-09-12T02:00:19.271444Z"
    }
   },
   "cell_type": "code",
   "source": [
    "\n",
    "def available(sudoku_state, row, col):\n",
    "    unavail_list = get_unavailable_nums(sudoku_state,row,col)\n",
    "    my_set = {'1', '2', '3', '4', '5', '6', '7', '8', '9'}\n",
    "    my_set = my_set.difference(unavail_list)\n",
    "    return my_set\n",
    "\n",
    "\n",
    "def solver_for(sudoku_state, row, col):\n",
    "    #if sudoku board is complete\n",
    "    if row == 8 and col == 9:\n",
    "        return True\n",
    "\n",
    "    # If last column of the row go to the next row\n",
    "    if col == 9:\n",
    "        row += 1\n",
    "        col = 0\n",
    "\n",
    "    # If spot is already filled then go to next\n",
    "    if sudoku_state[row][col] != '?':\n",
    "        return solver_for(sudoku_state, row, col+1)\n",
    "\n",
    "    #create domain of available numbers\n",
    "    avail_list = available(sudoku_state, row, col)\n",
    "    #test each available numbers recursively like normal back tracking\n",
    "    for num in avail_list:\n",
    "        sudoku_state[row][col] = str(num)\n",
    "        #TODO ADD COUNTER HERE FOR EACH STEP\n",
    "        if solver_for(sudoku_state, row, col+1):\n",
    "            return True\n",
    "        sudoku_state[row][col] = '?'\n",
    "    #TODO: add num_backtracking counter\n",
    "    return False\n",
    "\n",
    "def solveSudoku_forward(sudoku_state): #starts recursive solving\n",
    "    solver_for(sudoku_state, 0, 0)\n",
    "    for line in sudoku_state:\n",
    "        pass\n",
    "        print(line)\n",
    "\n",
    "solveSudoku_forward(parse_matrix(PUZZLE_PATH))"
   ],
   "outputs": [
    {
     "name": "stdout",
     "output_type": "stream",
     "text": [
      "['1', '9', '8', '7', '5', '6', '2', '4', '3']\n",
      "['7', '5', '4', '2', '8', '3', '6', '1', '9']\n",
      "['2', '6', '3', '1', '9', '4', '8', '5', '7']\n",
      "['6', '1', '7', '4', '2', '9', '5', '3', '8']\n",
      "['3', '4', '9', '5', '6', '8', '1', '7', '2']\n",
      "['5', '8', '2', '3', '1', '7', '9', '6', '4']\n",
      "['8', '3', '5', '6', '4', '2', '7', '9', '1']\n",
      "['4', '2', '1', '9', '7', '5', '3', '8', '6']\n",
      "['9', '7', '6', '8', '3', '1', '4', '2', '5']\n"
     ]
    }
   ],
   "execution_count": 388
  },
  {
   "metadata": {},
   "cell_type": "markdown",
   "source": "# Arc Consistancy Algorithm Functions"
  },
  {
   "metadata": {
    "ExecuteTime": {
     "end_time": "2025-09-12T03:56:19.537077Z",
     "start_time": "2025-09-12T03:56:19.529696Z"
    }
   },
   "cell_type": "code",
   "source": [
    "#TODO: implement Arc Consistency!!!!!!!!!!!!!!!!!!!!!!\n",
    "\n",
    "def AvailableDomain(sudoku_state, row, col):\n",
    "    unavail_list = get_unavailable_nums(sudoku_state,row,col)\n",
    "    my_set = {'1', '2', '3', '4', '5', '6', '7', '8', '9'}\n",
    "    my_set = my_set.difference(unavail_list)\n",
    "    return my_set\n",
    "\n",
    "def remove_inc(queue, current, domains):\n",
    "    pass\n",
    "    # removed = False\n",
    "    # for x in set(domains[]):\n",
    "    #     if len(domains[x]) == 0:\n",
    "    #         domains.remove(x)\n",
    "    #         removed = True\n",
    "    # return removed\n",
    "\n",
    "def Ac3(domains):\n",
    "    pass\n",
    "    # queue = []\n",
    "    # while len(queue) != 0:\n",
    "    #     current = queue.pop(0)\n",
    "    #     if remove_inc(queue, current, domains):\n",
    "    #         if len(domains) !=0:\n",
    "    #             for k in neighbors():\n",
    "    #                 queue.append(k)\n",
    "    #\n",
    "    #             return True\n",
    "    #         return False\n",
    "\n",
    "\n",
    "def solver_arc(sudoku_state, row, col, domains):\n",
    "    #if sudoku board is complete\n",
    "    if row == 8 and col == 9:\n",
    "        return True\n",
    "\n",
    "    # If last column of the row go to the next row\n",
    "    if col == 9:\n",
    "        row += 1\n",
    "        col = 0\n",
    "\n",
    "    # If spot is already filled then go to next\n",
    "    if sudoku_state[row][col] != '?':\n",
    "        return solver_arc(sudoku_state, row, col+1)\n",
    "\n",
    "    #create domain of available numbers\n",
    "    avail_list = list(domains[(row,col)])\n",
    "    print(avail_list)\n",
    "    print(domains)\n",
    "    #test each available numbers recursively like normal back tracking\n",
    "    for num in avail_list:\n",
    "        #TODO: add global counter for num_steps\n",
    "        sudoku_state[row][col] = str(num)\n",
    "        if Ac3(domains):\n",
    "            if solver_arc(sudoku_state, row, col+1, domains):\n",
    "                return True\n",
    "        sudoku_state[row][col] = '?'\n",
    "    #Todo: add global counter for num_backtracks\n",
    "    return False\n",
    "\n",
    "def solveSudoku_arc(sudoku_state): #starts recursive solving\n",
    "    domains = {}\n",
    "    for row in range(9):\n",
    "        for col in range(9):\n",
    "            if sudoku_state[row][col] == '?':\n",
    "                domains[row,col] = available(sudoku_state, row, col)\n",
    "    Ac3(domains)\n",
    "    solver_arc(sudoku_state, 0, 0, domains)\n",
    "    for line in sudoku_state:\n",
    "        pass\n",
    "        # print(line)\n",
    "\n",
    "solveSudoku_arc(parse_matrix(PUZZLE_PATH))\n"
   ],
   "outputs": [
    {
     "name": "stdout",
     "output_type": "stream",
     "text": [
      "['2', '3', '9', '1']\n",
      "{(0, 0): {'2', '3', '9', '1'}, (0, 1): {'1', '9'}, (0, 3): {'9', '2', '1', '4', '7'}, (0, 6): {'2', '7'}, (0, 7): {'4', '2', '3', '7'}, (0, 8): {'2', '3', '7'}, (1, 1): {'5'}, (1, 3): {'2'}, (1, 4): {'8'}, (1, 5): {'2', '3', '8'}, (2, 0): {'2', '3', '9', '1'}, (2, 1): {'6', '1', '9'}, (2, 2): {'6', '3'}, (2, 3): {'9', '2', '1', '4', '7'}, (2, 4): {'4', '9', '7'}, (2, 5): {'3', '2', '1', '4', '7'}, (2, 8): {'2', '3', '7'}, (3, 1): {'4', '8', '1'}, (3, 3): {'4'}, (3, 7): {'8', '3'}, (3, 8): {'8', '3'}, (4, 0): {'8', '3', '5'}, (4, 1): {'4', '8', '5'}, (4, 3): {'7', '4', '5'}, (4, 5): {'7', '4', '8', '5'}, (4, 7): {'7', '2', '3', '8'}, (4, 8): {'7', '2', '3', '8'}, (5, 0): {'8', '5'}, (5, 1): {'8', '5'}, (5, 5): {'7', '8', '5'}, (5, 7): {'6', '8', '7'}, (6, 0): {'8', '9'}, (6, 3): {'9', '6', '2', '1', '4', '7'}, (6, 4): {'4', '9', '7'}, (6, 5): {'4', '2', '1', '7'}, (6, 6): {'2', '7'}, (6, 7): {'7', '2', '9', '8'}, (6, 8): {'7', '2', '1', '8'}, (7, 3): {'7', '9', '5'}, (7, 4): {'9', '7'}, (7, 5): {'7', '5'}, (7, 7): {'8', '9', '7'}, (8, 0): {'9'}, (8, 1): {'6', '9', '7'}, (8, 2): {'6'}, (8, 5): {'7', '2', '1', '5'}, (8, 7): {'2', '9', '7'}, (8, 8): {'7', '2', '1', '5'}}\n"
     ]
    }
   ],
   "execution_count": 429
  }
 ]
}
