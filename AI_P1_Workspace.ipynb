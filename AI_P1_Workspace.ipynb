{
 "nbformat": 4,
 "nbformat_minor": 0,
 "metadata": {
  "colab": {
   "provenance": []
  },
  "kernelspec": {
   "name": "python3",
   "display_name": "Python 3 (ipykernel)",
   "language": "python"
  },
  "language_info": {
   "name": "python"
  }
 },
 "cells": [
  {
   "cell_type": "markdown",
   "source": [
    "# Introduction"
   ],
   "metadata": {
    "id": "PMbdgKQ_zcRD"
   }
  },
  {
   "cell_type": "markdown",
   "source": [
    "Welcome to the P1 Workspace with Group 14:\n",
    "Will Mitchell\n",
    "Trevor Gordon\n"
   ],
   "metadata": {
    "id": "Lvg9gZuky4ox"
   }
  },
  {
   "cell_type": "markdown",
   "source": [
    "Below are some prelimnary Helper methods that benifit the program as a whole with the starting code parameters"
   ],
   "metadata": {
    "id": "pkCad6gGzBxM"
   }
  },
  {
   "cell_type": "code",
   "metadata": {
    "id": "s_oLr0f6y0e1",
    "ExecuteTime": {
     "end_time": "2025-09-05T19:13:53.399454Z",
     "start_time": "2025-09-05T19:13:53.394083Z"
    }
   },
   "source": [
    "# Parameters\n",
    "GROUP_ID = 'Group14'\n",
    "ALGORITHM = 'bt'\n",
    "PUZZLE_TYPE = 'easy'\n",
    "PUZZLE_PATH = 'puzzles/Easy-P1.txt'"
   ],
   "outputs": [],
   "execution_count": 12
  },
  {
   "cell_type": "code",
   "source": [
    "def parse_matrix(file_path : str):\n",
    "  with open(file_path, mode=\"r\") as file:\n",
    "      new_matrix = []\n",
    "      for line in file:\n",
    "        new_line_array = line.replace(\"\\n\",\"\").replace(\"\\ufeff\",\"\").split(\",\")\n",
    "        new_matrix.append(new_line_array)\n",
    "\n",
    "\n",
    "  file.close()\n",
    "  return new_matrix\n",
    "\n",
    "parse_matrix(PUZZLE_PATH)\n",
    "\n"
   ],
   "metadata": {
    "colab": {
     "base_uri": "https://localhost:8080/"
    },
    "id": "lHacRnfl1Gb2",
    "outputId": "7abffe12-c622-469c-b716-f2bdeab48750",
    "ExecuteTime": {
     "end_time": "2025-09-05T19:13:54.869808Z",
     "start_time": "2025-09-05T19:13:54.853093Z"
    }
   },
   "outputs": [
    {
     "data": {
      "text/plain": [
       "[['ï»¿?', '?', '8', '?', '5', '6', '?', '?', '?'],\n",
       " ['7', '?', '4', '?', '?', '?', '6', '1', '9'],\n",
       " ['?', '?', '?', '?', '?', '?', '8', '5', '?'],\n",
       " ['6', '?', '7', '?', '2', '9', '5', '?', '?'],\n",
       " ['?', '?', '9', '?', '6', '?', '1', '?', '?'],\n",
       " ['?', '?', '2', '3', '1', '?', '9', '?', '4'],\n",
       " ['?', '3', '5', '?', '?', '?', '?', '?', '?'],\n",
       " ['4', '2', '1', '?', '?', '?', '3', '?', '6'],\n",
       " ['?', '?', '?', '8', '3', '?', '4', '?', '?']]"
      ]
     },
     "execution_count": 13,
     "metadata": {},
     "output_type": "execute_result"
    }
   ],
   "execution_count": 13
  },
  {
   "cell_type": "code",
   "source": [
    "def get_square_values(sudoku_state, cord_x, cord_y):\n",
    "  #first box\n",
    "  if cord_x <= 2 and cord_y <= 2:\n",
    "\n",
    "  elif (2 < cord_x < 5) and (cord_y <= 2):\n",
    "\n",
    "\n",
    "\n",
    "\n",
    "\n",
    "\n",
    "  print(answer)\n"
   ],
   "metadata": {
    "colab": {
     "base_uri": "https://localhost:8080/"
    },
    "id": "GorPemKb1N1W",
    "outputId": "5362234a-93ee-4eed-c1fc-f3a7541d6b5e"
   },
   "execution_count": null,
   "outputs": [
    {
     "output_type": "stream",
     "name": "stdout",
     "text": [
      "yes\n"
     ]
    }
   ]
  },
  {
   "cell_type": "code",
   "source": [
    "matrix = parse_matrix(PUZZLE_PATH)\n",
    "if 6 in matrix[0]:\n",
    "  return True\n",
    "else:\n",
    "  return False\n"
   ],
   "metadata": {
    "colab": {
     "base_uri": "https://localhost:8080/",
     "height": 106
    },
    "id": "QVw7AJgS-RCp",
    "outputId": "b6b25caf-e93c-4b46-9aee-518ad62851fb"
   },
   "execution_count": null,
   "outputs": [
    {
     "output_type": "error",
     "ename": "SyntaxError",
     "evalue": "'return' outside function (ipython-input-2433683405.py, line 3)",
     "traceback": [
      "\u001B[0;36m  File \u001B[0;32m\"/tmp/ipython-input-2433683405.py\"\u001B[0;36m, line \u001B[0;32m3\u001B[0m\n\u001B[0;31m    return True\u001B[0m\n\u001B[0m    ^\u001B[0m\n\u001B[0;31mSyntaxError\u001B[0m\u001B[0;31m:\u001B[0m 'return' outside function\n"
     ]
    }
   ]
  },
  {
   "cell_type": "markdown",
   "source": [
    "# Helper Functions\n"
   ],
   "metadata": {
    "id": "l_agV5ehzX30"
   }
  },
  {
   "cell_type": "code",
   "source": [
    "def get_row_values(sudoku_state, cord_x, cord_y):\n",
    "  matrix = parse_matrix(PUZZLE_PATH)\n",
    "  value = matrix[cord_x][cord_y]\n",
    "  my_set = set(matrix[cord_x])\n",
    "  my_set.remove(value)\n",
    "  return my_set\n",
    "\n",
    "print(get_row_values(0,1))"
   ],
   "metadata": {
    "colab": {
     "base_uri": "https://localhost:8080/"
    },
    "id": "_vnWfFovDLds",
    "outputId": "021ae82c-eeed-4c1b-d02d-79169ef7fe77",
    "ExecuteTime": {
     "end_time": "2025-09-05T19:11:50.617390Z",
     "start_time": "2025-09-05T19:11:50.581212Z"
    }
   },
   "outputs": [
    {
     "ename": "TypeError",
     "evalue": "get_row_values() missing 1 required positional argument: 'cord_y'",
     "output_type": "error",
     "traceback": [
      "\u001B[31m---------------------------------------------------------------------------\u001B[39m",
      "\u001B[31mTypeError\u001B[39m                                 Traceback (most recent call last)",
      "\u001B[36mCell\u001B[39m\u001B[36m \u001B[39m\u001B[32mIn[5]\u001B[39m\u001B[32m, line 8\u001B[39m\n\u001B[32m      5\u001B[39m   my_set.remove(value)\n\u001B[32m      6\u001B[39m   \u001B[38;5;28;01mreturn\u001B[39;00m my_set\n\u001B[32m----> \u001B[39m\u001B[32m8\u001B[39m \u001B[38;5;28mprint\u001B[39m(\u001B[43mget_row_values\u001B[49m\u001B[43m(\u001B[49m\u001B[32;43m0\u001B[39;49m\u001B[43m,\u001B[49m\u001B[32;43m1\u001B[39;49m\u001B[43m)\u001B[49m)\n",
      "\u001B[31mTypeError\u001B[39m: get_row_values() missing 1 required positional argument: 'cord_y'"
     ]
    }
   ],
   "execution_count": 5
  },
  {
   "cell_type": "code",
   "source": [
    "def get_col_values(sudoku_state, cord_x, cord_y):\n",
    "  matrix = parse_matrix(sudoku_state)\n",
    "  value = matrix[cord_x][cord_y]\n",
    "  my_set = set(matrix[cord_x])\n",
    "  my_set.remove(value)\n",
    "  for i in range(8):\n",
    "    my_set.add(matrix[cord_x][i])\n",
    "\n",
    "  return my_set\n",
    "\n",
    "print(get_col_values(0,0,1))"
   ],
   "metadata": {
    "id": "CdpXcAieJP6_",
    "ExecuteTime": {
     "end_time": "2025-09-05T19:12:59.838401Z",
     "start_time": "2025-09-05T19:12:59.790126Z"
    }
   },
   "outputs": [
    {
     "ename": "NameError",
     "evalue": "name 'parse_matrix' is not defined",
     "output_type": "error",
     "traceback": [
      "\u001B[31m---------------------------------------------------------------------------\u001B[39m",
      "\u001B[31mNameError\u001B[39m                                 Traceback (most recent call last)",
      "\u001B[36mCell\u001B[39m\u001B[36m \u001B[39m\u001B[32mIn[7]\u001B[39m\u001B[32m, line 16\u001B[39m\n\u001B[32m     13\u001B[39m   my_set.remove(value)\n\u001B[32m     14\u001B[39m   \u001B[38;5;28;01mreturn\u001B[39;00m my_set\n\u001B[32m---> \u001B[39m\u001B[32m16\u001B[39m \u001B[38;5;28mprint\u001B[39m(\u001B[43mget_col_values\u001B[49m\u001B[43m(\u001B[49m\u001B[32;43m0\u001B[39;49m\u001B[43m,\u001B[49m\u001B[32;43m0\u001B[39;49m\u001B[43m,\u001B[49m\u001B[32;43m1\u001B[39;49m\u001B[43m)\u001B[49m)\n",
      "\u001B[36mCell\u001B[39m\u001B[36m \u001B[39m\u001B[32mIn[7]\u001B[39m\u001B[32m, line 10\u001B[39m, in \u001B[36mget_col_values\u001B[39m\u001B[34m(sudoku_state, cord_x, cord_y)\u001B[39m\n\u001B[32m      1\u001B[39m \u001B[38;5;28;01mdef\u001B[39;00m\u001B[38;5;250m \u001B[39m\u001B[34mget_col_values\u001B[39m(sudoku_state, cord_x, cord_y):\n\u001B[32m      2\u001B[39m   \u001B[38;5;66;03m# matrix = parse_matrix(sudoku_state)\u001B[39;00m\n\u001B[32m      3\u001B[39m   \u001B[38;5;66;03m# value = matrix[cord_x][cord_y]\u001B[39;00m\n\u001B[32m   (...)\u001B[39m\u001B[32m      8\u001B[39m   \u001B[38;5;66;03m#\u001B[39;00m\n\u001B[32m      9\u001B[39m   \u001B[38;5;66;03m# return my_set\u001B[39;00m\n\u001B[32m---> \u001B[39m\u001B[32m10\u001B[39m   matrix = \u001B[43mparse_matrix\u001B[49m(PUZZLE_PATH)\n\u001B[32m     11\u001B[39m   value = matrix[cord_x][cord_y]\n\u001B[32m     12\u001B[39m   my_set = \u001B[38;5;28mset\u001B[39m(matrix[cord_x])\n",
      "\u001B[31mNameError\u001B[39m: name 'parse_matrix' is not defined"
     ]
    }
   ],
   "execution_count": 7
  }
 ]
}
